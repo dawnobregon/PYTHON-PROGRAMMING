{
 "cells": [
  {
   "cell_type": "markdown",
   "id": "125ca45d-5c6b-427c-b8d2-44587d54d2a2",
   "metadata": {},
   "source": [
    "REVIEW QUESTION 1"
   ]
  },
  {
   "cell_type": "code",
   "execution_count": 2,
   "id": "2e606744-7c18-4829-a638-6d2f5086d946",
   "metadata": {
    "scrolled": true
   },
   "outputs": [
    {
     "name": "stdout",
     "output_type": "stream",
     "text": [
      "25000000\n",
      "25000000\n"
     ]
    }
   ],
   "source": [
    "# 1. Write a script that creates the two variables, num1 and num2. Both num1\n",
    "# and num2 should be assigned the integer literal 25,000,000, one written\n",
    "# with underscored and one without. Print num1 and num2 on two separate lines.\n",
    "\n",
    "num1 = 25000000\n",
    "num2 = 25_000_000\n",
    "\n",
    "print(num1)\n",
    "print(num2)"
   ]
  },
  {
   "cell_type": "code",
   "execution_count": 3,
   "id": "ed9ce183-4f51-411e-911f-31251c586291",
   "metadata": {
    "scrolled": true
   },
   "outputs": [
    {
     "name": "stdout",
     "output_type": "stream",
     "text": [
      "175000.0\n"
     ]
    }
   ],
   "source": [
    "# 2. Write a script that assigns the floating-point literal 175000.0 to the\n",
    "# variable num using exponential notation, and then prints num\n",
    "\n",
    "num = 1.75e5 \n",
    "print(num)"
   ]
  },
  {
   "cell_type": "code",
   "execution_count": 4,
   "id": "bbc6d170-e65c-4955-8520-4eadcb97f2c0",
   "metadata": {},
   "outputs": [
    {
     "name": "stdout",
     "output_type": "stream",
     "text": [
      "Smallest N where 2eN is infinity: 308\n"
     ]
    }
   ],
   "source": [
    "# 3. Try and find the smallest exponent N so that 2e<N>, where <N> is replaced with your number, returns inf.\n",
    "\n",
    "import math\n",
    "\n",
    "N = 300  # start close to max\n",
    "while True:\n",
    "    val = float(f\"2e{N}\")\n",
    "    if math.isinf(val):\n",
    "        break\n",
    "    N += 1\n",
    "\n",
    "print(\"Smallest N where 2eN is infinity:\", N)"
   ]
  },
  {
   "cell_type": "markdown",
   "id": "211ebd2f-2a45-4a31-8fe1-a987da91387a",
   "metadata": {},
   "source": [
    "REVIEW QUESTION 2"
   ]
  },
  {
   "cell_type": "code",
   "execution_count": 6,
   "id": "d839e6cc-55fa-4efa-9b5b-1b55a91a6cb5",
   "metadata": {},
   "outputs": [
    {
     "name": "stdin",
     "output_type": "stream",
     "text": [
      "Enter the base number:  5.0\n",
      "Enter the exponent number:  3.0\n"
     ]
    },
    {
     "name": "stdout",
     "output_type": "stream",
     "text": [
      "5.0 raised to the power of 3.0 is 125.0\n"
     ]
    }
   ],
   "source": [
    "# Write a script called exponent.py that receives two numbers from the\n",
    "# user and displays the first number raised to the power of the second number.\n",
    "\n",
    "base = float(input(\"Enter the base number: \"))\n",
    "exponent = float(input(\"Enter the exponent number: \"))\n",
    "\n",
    "result = base ** exponent\n",
    "\n",
    "print(f\"{base} raised to the power of {exponent} is {result}\")"
   ]
  },
  {
   "cell_type": "markdown",
   "id": "fd527da1-d7c7-47bd-8cea-6242d707ea14",
   "metadata": {},
   "source": [
    "REVIEW QUESTION 3"
   ]
  },
  {
   "cell_type": "code",
   "execution_count": 8,
   "id": "4d5f43b6-617c-4022-af65-3a3fb1bade07",
   "metadata": {},
   "outputs": [
    {
     "name": "stdin",
     "output_type": "stream",
     "text": [
      "Enter a number:  21\n"
     ]
    },
    {
     "name": "stdout",
     "output_type": "stream",
     "text": [
      "Number rounded to two decimal places: 21.0\n"
     ]
    }
   ],
   "source": [
    "# 1.Write a script that asks the user to input a number and then displays that number rounded to two decimal places.\n",
    "\n",
    "num = float(input(\"Enter a number: \"))\n",
    "rounded_num = round(num, 2)\n",
    "\n",
    "print(f\"Number rounded to two decimal places: {rounded_num}\")"
   ]
  },
  {
   "cell_type": "code",
   "execution_count": 10,
   "id": "25befd20-324a-43be-b341-e05f95743fef",
   "metadata": {},
   "outputs": [
    {
     "name": "stdin",
     "output_type": "stream",
     "text": [
      "Enter a number:  -1.0\n"
     ]
    },
    {
     "name": "stdout",
     "output_type": "stream",
     "text": [
      "The absolute value of -1.0 is 1.0\n"
     ]
    }
   ],
   "source": [
    "# 2. Write a script that asks the user to input a number and then displays the absolute value of that number.\n",
    "\n",
    "num = float(input(\"Enter a number: \"))\n",
    "abs_value = abs(num)\n",
    "\n",
    "print(f\"The absolute value of {num} is {abs_value}\")"
   ]
  },
  {
   "cell_type": "markdown",
   "id": "e2098e55-36db-4bfc-a86d-11149f30be0e",
   "metadata": {},
   "source": [
    "REVIEW QUESTION 4"
   ]
  },
  {
   "cell_type": "code",
   "execution_count": 13,
   "id": "f09efa0c-3c86-4c3d-9e43-ae2c683c0381",
   "metadata": {},
   "outputs": [
    {
     "name": "stdin",
     "output_type": "stream",
     "text": [
      "Enter the first number:  1\n",
      "Enter the second number:  10\n"
     ]
    },
    {
     "name": "stdout",
     "output_type": "stream",
     "text": [
      "The difference between the two numbers is an integer.\n"
     ]
    }
   ],
   "source": [
    "# Write a script that asks the user to input two numbers by using the\n",
    "# input() function twice, then display whether or not the difference\n",
    "# between those two number is an integer\n",
    "\n",
    "num1 = float(input(\"Enter the first number: \"))\n",
    "num2 = float(input(\"Enter the second number: \"))\n",
    "\n",
    "diff = num1 - num2\n",
    "\n",
    "if diff.is_integer():\n",
    "    print(\"The difference between the two numbers is an integer.\")\n",
    "else:\n",
    "    print(\"The difference between the two numbers is NOT an integer.\")"
   ]
  },
  {
   "cell_type": "markdown",
   "id": "1cd4eda6-71ef-4e81-baec-d4478ebafb4e",
   "metadata": {},
   "source": [
    "REVIEW QUESTION 5"
   ]
  },
  {
   "cell_type": "code",
   "execution_count": 14,
   "id": "acd76126-8ac6-49a3-bcd4-5aa88655730b",
   "metadata": {},
   "outputs": [
    {
     "name": "stdout",
     "output_type": "stream",
     "text": [
      "1.147\n"
     ]
    }
   ],
   "source": [
    "# 1. Print the result of the calculation 3 ** .125 as a fixed-point number with three decimal places.\n",
    "\n",
    "result = 3 ** 0.125\n",
    "print(f\"{result:.3f}\")"
   ]
  },
  {
   "cell_type": "code",
   "execution_count": 16,
   "id": "2b6c6979-7b19-40f2-bb87-a600c218e2ab",
   "metadata": {},
   "outputs": [
    {
     "name": "stdout",
     "output_type": "stream",
     "text": [
      "PHP150,000.00\n"
     ]
    }
   ],
   "source": [
    "# 2. 2.Print the number 150000 as currency, with the thousands grouped\n",
    "# with commas. Currency should be displayed with two decimal places.\n",
    "\n",
    "amount = 150000\n",
    "print(f\"PHP{amount:,.2f}\")"
   ]
  },
  {
   "cell_type": "code",
   "execution_count": 17,
   "id": "79d75de1-d8fc-48fb-b623-8030905b74bd",
   "metadata": {},
   "outputs": [
    {
     "name": "stdout",
     "output_type": "stream",
     "text": [
      "20%\n"
     ]
    }
   ],
   "source": [
    "# 3. Print the result of 2 / 10 as a percentage with no decimal places. The output should look like 20%.\n",
    "\n",
    "result = 2 / 10\n",
    "print(f\"{result:.0%}\")\n",
    "\n"
   ]
  },
  {
   "cell_type": "code",
   "execution_count": null,
   "id": "54f4ed22-a240-4a7d-9f92-b10d117dd449",
   "metadata": {},
   "outputs": [],
   "source": []
  }
 ],
 "metadata": {
  "kernelspec": {
   "display_name": "Python [conda env:base] *",
   "language": "python",
   "name": "conda-base-py"
  },
  "language_info": {
   "codemirror_mode": {
    "name": "ipython",
    "version": 3
   },
   "file_extension": ".py",
   "mimetype": "text/x-python",
   "name": "python",
   "nbconvert_exporter": "python",
   "pygments_lexer": "ipython3",
   "version": "3.13.5"
  }
 },
 "nbformat": 4,
 "nbformat_minor": 5
}
