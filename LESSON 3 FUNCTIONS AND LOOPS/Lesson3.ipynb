{
 "cells": [
  {
   "cell_type": "markdown",
   "id": "86618fc5-addf-498a-bb3c-09df3128e044",
   "metadata": {
    "panel-layout": {
     "height": 51.13750076293945,
     "visible": true,
     "width": 100
    }
   },
   "source": [
    "**REVIEW QUESTION 1**"
   ]
  },
  {
   "cell_type": "code",
   "execution_count": 1,
   "id": "1abeb97e-aab8-4fbe-9928-177031359791",
   "metadata": {},
   "outputs": [
    {
     "name": "stdout",
     "output_type": "stream",
     "text": [
      "Cube of 2: 8\n",
      "Cube of 3: 27\n",
      "Cube of 4: 64\n",
      "Cube of -5: -125\n"
     ]
    }
   ],
   "source": [
    "# Write a function called cube() with one number parameter and returns the value of that number raised to the third power. Test the\n",
    "# function by displaying the result of calling your cube() function on a few different numbers\n",
    "\n",
    "def cube(number):\n",
    "    return number ** 3\n",
    "\n",
    "print(\"Cube of 2:\", cube(2))\n",
    "print(\"Cube of 3:\", cube(3))\n",
    "print(\"Cube of 4:\", cube(4))\n",
    "print(\"Cube of -5:\", cube(-5))"
   ]
  },
  {
   "cell_type": "code",
   "execution_count": 5,
   "id": "2723e314-6763-4b0c-8c45-088c8656c533",
   "metadata": {},
   "outputs": [
    {
     "name": "stdout",
     "output_type": "stream",
     "text": [
      "Hello Dawn!\n",
      "Hello Minic!\n",
      "Hello Adashe!\n"
     ]
    }
   ],
   "source": [
    "# Write a function called greet() that takes one string parameter called name and displays the text \"Hello <name>!\" , where <name> is\n",
    "# replaced with the value of the name parameter.\n",
    "\n",
    "def greet(name):\n",
    "    print(f\"Hello {name}!\")\n",
    "greet(\"Dawn\")\n",
    "greet(\"Minic\")\n",
    "greet(\"Adashe\")\n"
   ]
  },
  {
   "cell_type": "markdown",
   "id": "efd39b59-e2bd-423e-9ce3-a12a6853f80c",
   "metadata": {},
   "source": [
    "**REVIEW QUESTION 2**"
   ]
  },
  {
   "cell_type": "code",
   "execution_count": 6,
   "id": "5b24870a-b0da-494d-a62c-b8c43d52bdeb",
   "metadata": {},
   "outputs": [
    {
     "name": "stdout",
     "output_type": "stream",
     "text": [
      "2\n",
      "3\n",
      "4\n",
      "5\n",
      "6\n",
      "7\n",
      "8\n",
      "9\n",
      "10\n"
     ]
    }
   ],
   "source": [
    "# Write a for loop that prints out the integers 2 through 10, each on a new line, by using the range() function.\n",
    "\n",
    "for i in range(2, 11):\n",
    "    print(i)"
   ]
  },
  {
   "cell_type": "code",
   "execution_count": 7,
   "id": "ae0532fe-5ca5-4dfc-9b26-c1c86a066800",
   "metadata": {},
   "outputs": [
    {
     "name": "stdout",
     "output_type": "stream",
     "text": [
      "4\n",
      "8\n",
      "16\n"
     ]
    }
   ],
   "source": [
    "# Write a function called doubles() that takes one number as its input and doubles that number. Then use the doubles() function in a loop to\n",
    "# double the number 2 three times, displaying each result on a separate line. Here is some sample output:\n",
    "\n",
    "def doubles(number):\n",
    "    return number * 2\n",
    "\n",
    "value = 2\n",
    "for _ in range(3):\n",
    "    value = doubles(value)\n",
    "    print(value)"
   ]
  },
  {
   "cell_type": "code",
   "execution_count": null,
   "id": "a3a73cd0-0888-482c-ae95-765651c7e787",
   "metadata": {},
   "outputs": [],
   "source": []
  },
  {
   "cell_type": "code",
   "execution_count": null,
   "id": "c0756dfb-5705-44d9-92c3-fd011e5d22f7",
   "metadata": {},
   "outputs": [],
   "source": []
  }
 ],
 "metadata": {
  "kernelspec": {
   "display_name": "Python [conda env:base] *",
   "language": "python",
   "name": "conda-base-py"
  },
  "language_info": {
   "codemirror_mode": {
    "name": "ipython",
    "version": 3
   },
   "file_extension": ".py",
   "mimetype": "text/x-python",
   "name": "python",
   "nbconvert_exporter": "python",
   "pygments_lexer": "ipython3",
   "version": "3.13.5"
  },
  "panel-cell-order": [
   "86618fc5-addf-498a-bb3c-09df3128e044"
  ]
 },
 "nbformat": 4,
 "nbformat_minor": 5
}
