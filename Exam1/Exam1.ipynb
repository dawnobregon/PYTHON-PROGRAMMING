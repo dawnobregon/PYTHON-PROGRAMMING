{
 "cells": [
  {
   "cell_type": "markdown",
   "id": "dc8ae790-180a-48d0-83bc-c92cab6fbad9",
   "metadata": {},
   "source": [
    "# 1st Long Exam 9-10-25"
   ]
  },
  {
   "cell_type": "markdown",
   "id": "b991194e-eb69-4780-a570-d7cdab4a77e4",
   "metadata": {},
   "source": [
    "# Obregon Dominic Garcia ID:21509351 "
   ]
  },
  {
   "cell_type": "code",
   "execution_count": 6,
   "id": "693555c7-bcfe-49db-ba45-1ed90a457d61",
   "metadata": {},
   "outputs": [
    {
     "ename": "SyntaxError",
     "evalue": "invalid syntax (2246254240.py, line 2)",
     "output_type": "error",
     "traceback": [
      "\u001b[1;36m  Cell \u001b[1;32mIn[6], line 2\u001b[1;36m\u001b[0m\n\u001b[1;33m    user input - input (\"Enter you name\")\u001b[0m\n\u001b[1;37m         ^\u001b[0m\n\u001b[1;31mSyntaxError\u001b[0m\u001b[1;31m:\u001b[0m invalid syntax\n"
     ]
    }
   ],
   "source": [
    "#Question 1\n",
    "user input - input (\"Enter you name\")\n",
    "    print (\"Hello\", user - input)"
   ]
  },
  {
   "cell_type": "code",
   "execution_count": 7,
   "id": "7d138235-2535-485e-855c-7e0eb8269359",
   "metadata": {},
   "outputs": [
    {
     "ename": "SyntaxError",
     "evalue": "expected '(' (1581436058.py, line 2)",
     "output_type": "error",
     "traceback": [
      "\u001b[1;36m  Cell \u001b[1;32mIn[7], line 2\u001b[1;36m\u001b[0m\n\u001b[1;33m    def int sum (n) return n (2+1)/2\u001b[0m\n\u001b[1;37m            ^\u001b[0m\n\u001b[1;31mSyntaxError\u001b[0m\u001b[1;31m:\u001b[0m expected '('\n"
     ]
    }
   ],
   "source": [
    "#Question 2\n",
    "def int sum (n) return n (2+1)/2\n",
    "    num = int (input(\"Enter a num\"))\n",
    "    sum = 0\n",
    "    for range (1, abs(n)+1)\n",
    "    sum + = (print(\"The sum is\")"
   ]
  },
  {
   "cell_type": "code",
   "execution_count": null,
   "id": "5a8e8135-e663-4322-8fee-935909413a93",
   "metadata": {},
   "outputs": [],
   "source": [
    "#Question 3\n",
    "user input - input (\"Enter a letter\")\n",
    "    c = "
   ]
  }
 ],
 "metadata": {
  "kernelspec": {
   "display_name": "Python 3 (ipykernel)",
   "language": "python",
   "name": "python3"
  },
  "language_info": {
   "codemirror_mode": {
    "name": "ipython",
    "version": 3
   },
   "file_extension": ".py",
   "mimetype": "text/x-python",
   "name": "python",
   "nbconvert_exporter": "python",
   "pygments_lexer": "ipython3",
   "version": "3.13.5"
  }
 },
 "nbformat": 4,
 "nbformat_minor": 5
}
