{
 "cells": [
  {
   "cell_type": "markdown",
   "id": "6f83b173-22a4-416c-bf09-ccbfe3f0bdc0",
   "metadata": {},
   "source": [
    "# REVIEW QUESTION 1 "
   ]
  },
  {
   "cell_type": "code",
   "execution_count": 1,
   "id": "d5c34949-8092-4433-8e9a-0d09a8aef258",
   "metadata": {},
   "outputs": [
    {
     "name": "stdout",
     "output_type": "stream",
     "text": [
      "('FIRST', 'SECOND', 'THIRD')\n"
     ]
    }
   ],
   "source": [
    "# 1 CREATE ATUPLE LITERAL NAMED CARDINAL_NUMBERS THAT HOLDS THE STRINGS \"FIRST\",\"SECOND\" AND \"THIRD\", IN THAT ORDER.\n",
    "\n",
    "cardinal_numbers = (\"FIRST\", \"SECOND\", \"THIRD\")\n",
    "print(cardinal_numbers)\n"
   ]
  },
  {
   "cell_type": "code",
   "execution_count": 2,
   "id": "f7f29619-14ee-4e40-b488-76bf7e9586f3",
   "metadata": {},
   "outputs": [
    {
     "name": "stdout",
     "output_type": "stream",
     "text": [
      "SECOND\n"
     ]
    }
   ],
   "source": [
    "# 2 USING INDEX NOTATION AND PRINT(), DISPLAY THE STRING AT INDEX 1 IN CARDINAL_NUMBERS.\n",
    "\n",
    "cardinal_numbers = (\"FIRST\", \"SECOND\", \"THIRD\") \n",
    "print(cardinal_numbers[1])"
   ]
  },
  {
   "cell_type": "code",
   "execution_count": 3,
   "id": "cc2f3919-e999-41f6-bd92-5cbeafbcd9aa",
   "metadata": {},
   "outputs": [
    {
     "name": "stdout",
     "output_type": "stream",
     "text": [
      "FIRST\n",
      "SECOND\n",
      "THIRD\n"
     ]
    }
   ],
   "source": [
    "# 3 UNPACK THE VALUES IN CARDINAL_NUMBERS INTO THREE NEW STRINGS NAMED POSITION1,\n",
    "# POSITION2 AND POSITION3 IN A SINGLE LINE OF CODE, THEN PRINT EACH VALUE ON A SEPARATE LINE.\n",
    "\n",
    "cardinal_numbers = (\"FIRST\", \"SECOND\", \"THIRD\")\n",
    "\n",
    "position1, position2, position3 = cardinal_numbers\n",
    "\n",
    "print(position1)\n",
    "print(position2)\n",
    "print(position3)"
   ]
  },
  {
   "cell_type": "code",
   "execution_count": 5,
   "id": "96033ca1-1eb1-40a4-97db-9a297c684083",
   "metadata": {},
   "outputs": [
    {
     "name": "stdout",
     "output_type": "stream",
     "text": [
      "('D', 'a', 'w', 'n')\n"
     ]
    }
   ],
   "source": [
    "# 4 CREATE ATUPLE CALLED MY_NAME THAT CONTAINS THE LETTERS OF YOUR NAME BY USING TUPLE() AND A STRING LITERAL.\n",
    "\n",
    "my_name = tuple(\"Dawn\")\n",
    "print(my_name)\n"
   ]
  },
  {
   "cell_type": "code",
   "execution_count": 6,
   "id": "c345d80d-198f-4420-b680-22ad4707ac6d",
   "metadata": {},
   "outputs": [
    {
     "name": "stdout",
     "output_type": "stream",
     "text": [
      "X is not in my_name\n"
     ]
    }
   ],
   "source": [
    "#. 5 CHECK WHETHER OR NOT THE CHARACTER \"X\" IS IN MY_NAME USING THE IN KEYWORD\n",
    "\n",
    "my_name = tuple(\"Yone\")\n",
    "\n",
    "if \"X\" in my_name:\n",
    "    print(\"X is in my_name\")\n",
    "else:\n",
    "    print(\"X is not in my_name\")"
   ]
  },
  {
   "cell_type": "code",
   "execution_count": 7,
   "id": "6cb6d0b0-539e-4090-9e3c-ca1848079dfb",
   "metadata": {},
   "outputs": [
    {
     "name": "stdout",
     "output_type": "stream",
     "text": [
      "('a', 'w', 'n', ' ', 'O', 'b', 'r', 'e', 'g', 'o', 'n', ' ', 'G', 'a', 'r', 'c', 'i', 'a')\n"
     ]
    }
   ],
   "source": [
    "# 6 CREATEANEWTUPLECONTAININGALLBUTTHEFIRSTLETTER IN MY_NAMEUSING SLICING NOTATION.\n",
    "\n",
    "my_name = tuple(\"Dawn Obregon Garcia\")\n",
    "\n",
    "new_tuple = my_name[1:]\n",
    "\n",
    "print(new_tuple)\n"
   ]
  },
  {
   "cell_type": "markdown",
   "id": "05b6c0b6-5e1c-4a6c-a721-dc1c755e8552",
   "metadata": {},
   "source": [
    "# REVIEW QUESTION 2 "
   ]
  },
  {
   "cell_type": "code",
   "execution_count": 8,
   "id": "90ed71b2-a344-409b-956f-3244101bbd7a",
   "metadata": {},
   "outputs": [
    {
     "name": "stdout",
     "output_type": "stream",
     "text": [
      "['RICE', 'BEANS']\n"
     ]
    }
   ],
   "source": [
    "# 1 CREATE A LIST NAMED FOOD WITH TWO ELEMENTS \"RICE\" AND \"BEANS\"\n",
    "\n",
    "food = [\"RICE\", \"BEANS\"]\n",
    "print(food)"
   ]
  },
  {
   "cell_type": "code",
   "execution_count": 9,
   "id": "633f1be7-8573-49d2-8cb6-1dc28712f1c9",
   "metadata": {},
   "outputs": [
    {
     "name": "stdout",
     "output_type": "stream",
     "text": [
      "['RICE', 'BEANS', 'BROCCOLI']\n"
     ]
    }
   ],
   "source": [
    "# 2 APPENDTHE STRING \"BROCCOLI\" TO FOOD USING .APPEND()\n",
    "\n",
    "food = [\"RICE\", \"BEANS\"]\n",
    "food.append(\"BROCCOLI\")\n",
    "\n",
    "print(food)"
   ]
  },
  {
   "cell_type": "code",
   "execution_count": 10,
   "id": "48c78dd3-5c19-4d85-adfb-a94850bf7a30",
   "metadata": {},
   "outputs": [
    {
     "name": "stdout",
     "output_type": "stream",
     "text": [
      "['RICE', 'BEANS', 'BROCCOLI', 'BREAD', 'PIZZA']\n"
     ]
    }
   ],
   "source": [
    "# 3 ADDTHESTRING \"BREAD\" AND \"PIZZA\" TO \"FOOD\" USING .EXTEND().\n",
    "\n",
    "food = [\"RICE\", \"BEANS\", \"BROCCOLI\"]\n",
    "food.extend([\"BREAD\", \"PIZZA\"])\n",
    "\n",
    "print(food)"
   ]
  },
  {
   "cell_type": "code",
   "execution_count": 11,
   "id": "b771f987-7206-4f07-9984-306c295a6c18",
   "metadata": {},
   "outputs": [
    {
     "name": "stdout",
     "output_type": "stream",
     "text": [
      "['RICE', 'BEANS']\n"
     ]
    }
   ],
   "source": [
    "# 4 PRINT THE FIRST TWO ITEMS IN THE FOOD LIST USING PRINT() AND SLICING NOTATION.\n",
    "\n",
    "food = [\"RICE\", \"BEANS\", \"BROCCOLI\", \"BREAD\", \"PIZZA\"]\n",
    "\n",
    "print(food[:2])"
   ]
  },
  {
   "cell_type": "code",
   "execution_count": 12,
   "id": "470d3b85-df25-45e7-9a19-2359d1a335af",
   "metadata": {},
   "outputs": [
    {
     "name": "stdout",
     "output_type": "stream",
     "text": [
      "PIZZA\n"
     ]
    }
   ],
   "source": [
    "# 5 PRINT THE LAST ITEM IN FOOD USING PRINT() AND INDEX NOTATION.\n",
    "\n",
    "food = [\"RICE\", \"BEANS\", \"BROCCOLI\", \"BREAD\", \"PIZZA\"]\n",
    "\n",
    "print(food[-1])\n"
   ]
  },
  {
   "cell_type": "code",
   "execution_count": 13,
   "id": "d429f96b-b456-4f44-8746-148efd27eedd",
   "metadata": {},
   "outputs": [
    {
     "name": "stdout",
     "output_type": "stream",
     "text": [
      "['EGGS', 'FRUIT', 'ORANGE JUICE']\n"
     ]
    }
   ],
   "source": [
    "# 6 CREATE A LIST CALLED BREAKFAST FROM THE STRING \"EGGS, FRUIT, ORANGE JUICE\" USINGTHE STRING .SPLIT() METHOD\n",
    "\n",
    "breakfast = \"EGGS, FRUIT, ORANGE JUICE\".split(\", \")\n",
    "\n",
    "print(breakfast)"
   ]
  },
  {
   "cell_type": "code",
   "execution_count": 14,
   "id": "b9a15116-34fb-4f27-8bef-e396bee6a1a8",
   "metadata": {},
   "outputs": [
    {
     "name": "stdout",
     "output_type": "stream",
     "text": [
      "3\n"
     ]
    }
   ],
   "source": [
    "# 7 VERIFY THAT BREAKFAST HAS THREE ITEMS USING LEN()\n",
    "\n",
    "breakfast = [\"EGGS\", \"FRUIT\", \"ORANGE JUICE\"]\n",
    "\n",
    "print(len(breakfast))"
   ]
  },
  {
   "cell_type": "code",
   "execution_count": 15,
   "id": "886778a5-eb16-44f8-9f7e-3d42a1e73f32",
   "metadata": {},
   "outputs": [
    {
     "name": "stdout",
     "output_type": "stream",
     "text": [
      "[4, 5, 12]\n"
     ]
    }
   ],
   "source": [
    "#. 8 CREATE A NEW LIST CALLED LENGTHS USING A LIST COMPREHENSION THAT CONTAINS\n",
    "# THELENGTHS OF EACH STRING IN THE BREAKFAST LIST.\n",
    "\n",
    "breakfast = [\"EGGS\", \"FRUIT\", \"ORANGE JUICE\"]\n",
    "lengths = [len(item) for item in breakfast]\n",
    "\n",
    "print(lengths)"
   ]
  },
  {
   "cell_type": "markdown",
   "id": "b048507f-9607-4283-9a87-4a5c07e2e84f",
   "metadata": {},
   "source": [
    "# REVIEW QUESTION 3 "
   ]
  },
  {
   "cell_type": "code",
   "execution_count": 16,
   "id": "f4eda820-1fc5-4719-9804-c2319f323dbe",
   "metadata": {},
   "outputs": [
    {
     "name": "stdout",
     "output_type": "stream",
     "text": [
      "((1, 2), (3, 4))\n"
     ]
    }
   ],
   "source": [
    "# 1 CREATE A TUPLE DATA WITH TWO VALUES. THE FIRST VALUE SHOULD BE THE\n",
    "# TUPLE (1, 2) AND THE SECOND VALUE SHOULD BE THE TUPLE (3, 4).\n",
    "\n",
    "data = ((1, 2), (3, 4))\n",
    "print(data)"
   ]
  },
  {
   "cell_type": "code",
   "execution_count": 17,
   "id": "1141f32f-cf99-4b46-986b-14a204c590b6",
   "metadata": {},
   "outputs": [
    {
     "name": "stdout",
     "output_type": "stream",
     "text": [
      "Row = 1 sum = 3\n",
      "Row = 2 sum = 7\n"
     ]
    }
   ],
   "source": [
    "# 2 WRITE A FOR LOOP THAT LOOPS OVER DATA AND PRINTS THE SUM OF EACH\n",
    "# NESTED TUPLE. THE OUTPUT SHOULD LOOK LIKE THIS:\n",
    "\n",
    "for n in range(len(data)):\n",
    "    sum=0\n",
    "    for value in data[n]:\n",
    "        sum += value\n",
    "    print(f\"Row = {n+1} sum = {sum}\")"
   ]
  },
  {
   "cell_type": "code",
   "execution_count": 18,
   "id": "d16425c0-db39-48f3-8d4d-c173189400da",
   "metadata": {},
   "outputs": [
    {
     "name": "stdout",
     "output_type": "stream",
     "text": [
      "[1, 2, 3, 4, 5]\n"
     ]
    }
   ],
   "source": [
    "# 3  CREATE A COPY OF THE NUMBERS LIST USING THE [:] SLICING NOTATION.\n",
    "numbers = [1, 2, 3, 4, 5]\n",
    "\n",
    "numbers_copy = numbers[:]\n",
    "\n",
    "print(numbers_copy)"
   ]
  },
  {
   "cell_type": "code",
   "execution_count": 19,
   "id": "b3118469-46b3-42ab-b255-67f223410a76",
   "metadata": {},
   "outputs": [
    {
     "name": "stdout",
     "output_type": "stream",
     "text": [
      "[1, 2, 5, 7, 9]\n"
     ]
    }
   ],
   "source": [
    "# 4  SORT THE NUMBERS LIST IN NUMERICAL ORDER USING THE .SORT() METHOD\n",
    "\n",
    "numbers = [5, 2, 9, 1, 7]\n",
    "\n",
    "numbers.sort()\n",
    "\n",
    "print(numbers)\n"
   ]
  },
  {
   "cell_type": "markdown",
   "id": "bfb5aa7d-c8db-430a-8904-a68f89e3027f",
   "metadata": {},
   "source": [
    "# CHALLENGE "
   ]
  },
  {
   "cell_type": "code",
   "execution_count": 20,
   "id": "4b18be72-728c-4c14-bd77-094d2f0b89b6",
   "metadata": {},
   "outputs": [
    {
     "name": "stdout",
     "output_type": "stream",
     "text": [
      "[['California Institute of Technology', 2175, 37704], ['Harvard', 19627, 39849], ['Massachusetts Institute of Technology', 10566, 40732], ['Princeton', 7802, 37000], ['Rice', 5879, 35551], ['Stanford', 19535, 40569], ['Yale', 11701, 40500]]\n"
     ]
    }
   ],
   "source": [
    "universities = [\n",
    "    ['California Institute of Technology', 2175, 37704],\n",
    "    ['Harvard', 19627, 39849],\n",
    "    ['Massachusetts Institute of Technology', 10566, 40732],\n",
    "    ['Princeton', 7802, 37000],\n",
    "    ['Rice', 5879, 35551],\n",
    "    ['Stanford', 19535, 40569],\n",
    "    ['Yale', 11701, 40500]\n",
    "]\n",
    "\n",
    "print(universities)"
   ]
  },
  {
   "cell_type": "code",
   "execution_count": 21,
   "id": "421df05e-17ed-44f6-94b5-9b3a064f91a4",
   "metadata": {},
   "outputs": [
    {
     "name": "stdout",
     "output_type": "stream",
     "text": [
      "Nouns: ['FOSSIL', 'HORSE', 'AARDVARK', 'JUDGE', 'CHEF', 'MANGO', 'EXTROVERT', 'GORILLA']\n",
      "Verbs: ['KICKS', 'JINGLES', 'BOUNCES', 'SLURPS', 'MEOWS', 'EXPLODES', 'CURDLES']\n",
      "Adjectives: ['FURRY', 'BALDING', 'INCREDULOUS', 'FRAGRANT', 'EXUBERANT', 'GLISTENING']\n",
      "Prepositions: ['AGAINST', 'AFTER', 'INTO', 'BENEATH', 'UPON', 'FOR', 'IN', 'LIKE', 'OVER', 'WITHIN']\n",
      "Adverbs: ['CURIOUSLY', 'FURIOUSLY', 'SENSUOUSLY', 'EXTRAVAGANTLY', 'TANTALIZINGLY']\n"
     ]
    }
   ],
   "source": [
    "# Nouns\n",
    "nouns = [\"FOSSIL\", \"HORSE\", \"AARDVARK\", \"JUDGE\", \"CHEF\", \"MANGO\", \"EXTROVERT\", \"GORILLA\"]\n",
    "# Verbs\n",
    "verbs = [\"KICKS\", \"JINGLES\", \"BOUNCES\", \"SLURPS\", \"MEOWS\", \"EXPLODES\", \"CURDLES\"]\n",
    "# Adjectives\n",
    "adjectives = [\"FURRY\", \"BALDING\", \"INCREDULOUS\", \"FRAGRANT\", \"EXUBERANT\", \"GLISTENING\"]\n",
    "# Prepositions\n",
    "prepositions = [\"AGAINST\", \"AFTER\", \"INTO\", \"BENEATH\", \"UPON\", \"FOR\", \"IN\", \"LIKE\", \"OVER\", \"WITHIN\"]\n",
    "# Adverbs\n",
    "adverbs = [\"CURIOUSLY\", \"FURIOUSLY\", \"SENSUOUSLY\", \"EXTRAVAGANTLY\", \"TANTALIZINGLY\"]\n",
    "\n",
    "print(\"Nouns:\", nouns)\n",
    "print(\"Verbs:\", verbs)\n",
    "print(\"Adjectives:\", adjectives)\n",
    "print(\"Prepositions:\", prepositions)\n",
    "print(\"Adverbs:\", adverbs)"
   ]
  },
  {
   "cell_type": "markdown",
   "id": "4b36f93b-b463-43b8-a17a-c0cc4b2ca43e",
   "metadata": {},
   "source": [
    "# REVIEW QUESTION 4 "
   ]
  },
  {
   "cell_type": "code",
   "execution_count": 22,
   "id": "1ec363fa-82d0-46a0-8a74-d927959fb858",
   "metadata": {},
   "outputs": [
    {
     "name": "stdout",
     "output_type": "stream",
     "text": [
      "{}\n"
     ]
    }
   ],
   "source": [
    "# 1 CREATE AN EMPTY DICTIONARY NAMED CAPTAINS\n",
    "\n",
    "captains = {}\n",
    "print(captains)"
   ]
  },
  {
   "cell_type": "code",
   "execution_count": 23,
   "id": "4b464992-be03-44f1-96be-18cb734c18d2",
   "metadata": {},
   "outputs": [
    {
     "name": "stdout",
     "output_type": "stream",
     "text": [
      "'Enterprise' : 'Picard'\n",
      "'Voyager' : 'Janeway'\n",
      "'Defiant' : 'Sisco'\n"
     ]
    }
   ],
   "source": [
    "# 2. USING THE SQUARE BRACKET NOTATION, ENTER THE FOLLOWING DATA INTO THE DICTIONARY, ONE ITEM AT A TIME:\n",
    "captains = {}\n",
    "\n",
    "captains = {}\n",
    "captains[\"Enterprise\"] = \"Picard\"\n",
    "captains[\"Voyager\"] = \"Janeway\"\n",
    "captains[\"Defiant\"] = \"Sisco\"\n",
    "\n",
    "for n in captains:\n",
    "        print(f\"'{n}' : '{captains[n]}'\")"
   ]
  },
  {
   "cell_type": "code",
   "execution_count": 24,
   "id": "80461dd1-8be0-4f29-ba36-33ae4d55b657",
   "metadata": {},
   "outputs": [
    {
     "name": "stdout",
     "output_type": "stream",
     "text": [
      "'Enterprise' : 'Picard'\n",
      "'Voyager' : 'Janeway'\n",
      "'Defiant' : 'Sisco'\n",
      "'Discovery' : 'Unknwon'\n"
     ]
    }
   ],
   "source": [
    "# 3.  WRITE TWO IF STATEMENTS THAT CHECK IF \"ENTERPRISE\" AND \"DISCOVERY\" EXIST AS\n",
    "# KEYS IN THE DICTIONARY. SET THEIR VALUES TO \"UNKNOWN\" IF THE KEY DOES NOT EXIST\n",
    "\n",
    "if not (\"Enterprise\" in captains): captains[\"Eterprise\"] = \"Unknown\"\n",
    "if not (\"Discovery\" in captains): captains[\"Discovery\"] = \"Unknwon\"\n",
    "\n",
    "for n in captains:\n",
    "        print(f\"'{n}' : '{captains[n]}'\")\n",
    "    "
   ]
  },
  {
   "cell_type": "code",
   "execution_count": 25,
   "id": "fb0c95ad-ef2d-483c-afee-ef9b6f92d80f",
   "metadata": {},
   "outputs": [
    {
     "name": "stdout",
     "output_type": "stream",
     "text": [
      "The captain of the Enterprise is Picard.\n",
      "The captain of the Voyager is Janeway.\n",
      "The captain of the Defiant is Sisko.\n",
      "The captain of the Discovery is UNKNOWN.\n"
     ]
    }
   ],
   "source": [
    "# 4 WRITE A FOR LOOP TO DISPLAY THE SHIP AND CAPTAIN NAMES CONTAINED IN THE\n",
    "# DICTIONARY. FOR EXAMPLE, THE OUTPUT SHOULD LOOK SOMETHING LIKE THIS:\n",
    "\n",
    "captains = {\n",
    "    \"Enterprise\": \"Picard\",\n",
    "    \"Voyager\": \"Janeway\",\n",
    "    \"Defiant\": \"Sisko\",\n",
    "    \"Discovery\": \"UNKNOWN\"\n",
    "}\n",
    "\n",
    "for ship, captain in captains.items():\n",
    "    print(f\"The captain of the {ship} is {captain}.\")"
   ]
  },
  {
   "cell_type": "markdown",
   "id": "fa5de842-dfbd-4024-ba8f-0ac21b5fe29e",
   "metadata": {},
   "source": [
    "# REVIEW QUESTION 5 "
   ]
  },
  {
   "cell_type": "code",
   "execution_count": 26,
   "id": "33507f75-e145-4738-a760-56cdc828a15d",
   "metadata": {},
   "outputs": [
    {
     "name": "stdout",
     "output_type": "stream",
     "text": [
      "The captain of the Enterprise is Picard.\n",
      "The captain of the Voyager is Janeway.\n",
      "The captain of the Defiant is Sisko.\n"
     ]
    }
   ],
   "source": [
    "# 1 DELETE \"DISCOVERY\" FROM THE DICTIONARY\n",
    "\n",
    "captains = {\n",
    "    \"Enterprise\": \"Picard\",\n",
    "    \"Voyager\": \"Janeway\",\n",
    "    \"Defiant\": \"Sisko\",\n",
    "    \"Discovery\": \"Unknown\"\n",
    "}\n",
    "\n",
    "del captains[\"Discovery\"]\n",
    "\n",
    "for ship, captain in captains.items():\n",
    "    print(f\"The captain of the {ship} is {captain}.\")"
   ]
  },
  {
   "cell_type": "code",
   "execution_count": 27,
   "id": "1a076eb3-1440-4c59-bb59-2780b5e1ecb7",
   "metadata": {},
   "outputs": [
    {
     "name": "stdout",
     "output_type": "stream",
     "text": [
      "The captain of the Enterprise is Picard.\n",
      "The captain of the Voyager is Janeway.\n",
      "The captain of the Defiant is Sisko.\n",
      "The captain of the Discovery is Unknown.\n"
     ]
    }
   ],
   "source": [
    "# bonus:\n",
    "\n",
    "captains = dict(\n",
    "    Enterprise=\"Picard\",\n",
    "    Voyager=\"Janeway\",\n",
    "    Defiant=\"Sisko\",\n",
    "    Discovery=\"Unknown\"\n",
    ")\n",
    "\n",
    "for ship, captain in captains.items():\n",
    "    print(f\"The captain of the {ship} is {captain}.\")"
   ]
  },
  {
   "cell_type": "code",
   "execution_count": null,
   "id": "ee85d0e7-993a-4905-b94d-21d25299c2d0",
   "metadata": {},
   "outputs": [
    {
     "name": "stdout",
     "output_type": "stream",
     "text": [
      "Type 'exit' anytime to quit.\n",
      "\n"
     ]
    },
    {
     "name": "stdin",
     "output_type": "stream",
     "text": [
      "What is the capital of Alabama?  cebu\n"
     ]
    },
    {
     "name": "stdout",
     "output_type": "stream",
     "text": [
      "❌ Wrong. The capital of Alabama is Montgomery.\n",
      "\n"
     ]
    }
   ],
   "source": [
    "capitals_dict = {\n",
    "    'Alabama': 'Montgomery',\n",
    "    'Alaska': 'Juneau',\n",
    "    'Arizona': 'Phoenix',\n",
    "    'Arkansas': 'Little Rock',\n",
    "    'California': 'Sacramento',\n",
    "    'Colorado': 'Denver',\n",
    "    'Connecticut': 'Hartford',\n",
    "    'Delaware': 'Dover',\n",
    "    'Florida': 'Tallahassee',\n",
    "    'Georgia': 'Atlanta',\n",
    "}\n",
    "\n",
    "print(\"Type 'exit' anytime to quit.\\n\")\n",
    "\n",
    "for state, capital in capitals_dict.items():\n",
    "    guess = input(f\"What is the capital of {state}? \")\n",
    "    \n",
    "    if guess.lower() == \"exit\":\n",
    "        print(\"Exiting...\")\n",
    "        break\n",
    "\n",
    "    if guess.lower() == capital.lower():\n",
    "        print(\"✅ Correct!\\n\")\n",
    "    else:\n",
    "        print(f\"❌ Wrong. The capital of {state} is {capital}.\\n\")"
   ]
  },
  {
   "cell_type": "code",
   "execution_count": null,
   "id": "c20983d7-bfd3-4dc9-b163-20345cdd4d21",
   "metadata": {},
   "outputs": [],
   "source": []
  }
 ],
 "metadata": {
  "kernelspec": {
   "display_name": "Python [conda env:base] *",
   "language": "python",
   "name": "conda-base-py"
  },
  "language_info": {
   "codemirror_mode": {
    "name": "ipython",
    "version": 3
   },
   "file_extension": ".py",
   "mimetype": "text/x-python",
   "name": "python",
   "nbconvert_exporter": "python",
   "pygments_lexer": "ipython3",
   "version": "3.13.5"
  }
 },
 "nbformat": 4,
 "nbformat_minor": 5
}
