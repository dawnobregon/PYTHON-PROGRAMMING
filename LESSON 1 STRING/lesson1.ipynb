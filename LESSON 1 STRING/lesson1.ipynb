{
 "cells": [
  {
   "cell_type": "markdown",
   "id": "39c1294f-907a-4484-ac9b-966e0676996e",
   "metadata": {},
   "source": [
    "# REVIEW QUESTION 1 "
   ]
  },
  {
   "cell_type": "code",
   "execution_count": 3,
   "id": "6c88be88-3248-489e-a9e4-c9d003ea1cb4",
   "metadata": {},
   "outputs": [
    {
     "name": "stdout",
     "output_type": "stream",
     "text": [
      "Length of the string: 13\n"
     ]
    }
   ],
   "source": [
    "#Create a string and prints its length using the len[] function.\n",
    "my_string = \"hello, World!\"\n",
    "print(\"Length of the string:\", len(my_string)) "
   ]
  },
  {
   "cell_type": "code",
   "execution_count": 5,
   "id": "9fa7ae00-f19a-4fd7-9d44-68f741aa9b29",
   "metadata": {},
   "outputs": [
    {
     "name": "stdout",
     "output_type": "stream",
     "text": [
      "Concatenated string: Hello World!\n"
     ]
    }
   ],
   "source": [
    "#Create two strings, concatenate them, and print the resulting string.\n",
    "string1 = \"Hello\"\n",
    "string2 = \"World!\"\n",
    "concatenated_string = string1 + \" \" + string2\n",
    "print(\"Concatenated string:\", concatenated_string)"
   ]
  },
  {
   "cell_type": "code",
   "execution_count": 8,
   "id": "0e08bec9-dc20-4c9d-9dea-bd2b056f7a56",
   "metadata": {},
   "outputs": [
    {
     "name": "stdout",
     "output_type": "stream",
     "text": [
      "Concatenated with space: Hello World\n"
     ]
    }
   ],
   "source": [
    "#Create two strings and use concatenation to add a space inbetween them. Then print the result\n",
    "string3 = \"Hello\"\n",
    "string4 = \"World\"\n",
    "concatenated_with_space = string3 + \" \" + string4\n",
    "print (\"Concatenated with space:\", concatenated_with_space)"
   ]
  },
  {
   "cell_type": "code",
   "execution_count": 16,
   "id": "8ed537d2-e031-4e0e-bf7b-d0d0c41aef1e",
   "metadata": {},
   "outputs": [
    {
     "name": "stdout",
     "output_type": "stream",
     "text": [
      "Extracted word using slice: fox\n"
     ]
    }
   ],
   "source": [
    "#Print the string \"fox\" using slice notation on the string \"The quick brown fox jumped over the lazy dog. #1234567890!\" \n",
    "original_string = \"The quick brown fox jumped over the lazy dog. #1234567890!\"\n",
    "fox_slice = original_string[16:19]  # Start at index 16, end at index 19 (not inclusive)\n",
    "print(\"Extracted word using slice:\", fox_slice)"
   ]
  },
  {
   "cell_type": "markdown",
   "id": "dbda0265-7aa5-462f-8747-44aa7dd309cf",
   "metadata": {},
   "source": [
    "# REVIEW QUESTION 2"
   ]
  },
  {
   "cell_type": "code",
   "execution_count": 11,
   "id": "949f84c5-e69b-4b00-a5d9-2feb9aa5c9ff",
   "metadata": {},
   "outputs": [
    {
     "name": "stdout",
     "output_type": "stream",
     "text": [
      "animals\n",
      "badger\n",
      "honey bee\n",
      "honeybadger\n"
     ]
    }
   ],
   "source": [
    "#Write a script that converts the following strings to lowercase:\n",
    "#\"Animals\",\"Badger\",\"Honey Bee\",\"Honeybadger\". Print each lowercase string on a separate line.\n",
    "strings = [\"Animals\", \"Badger\", \"Honey Bee\", \"Honeybadger\"]\n",
    "for s in strings:\n",
    "    print(s.lower())"
   ]
  },
  {
   "cell_type": "code",
   "execution_count": 17,
   "id": "3b998104-0043-40e3-88c0-eb58df27fa28",
   "metadata": {},
   "outputs": [
    {
     "name": "stdout",
     "output_type": "stream",
     "text": [
      "ANIMALS\n",
      "BADGER\n",
      "HONEY BEE\n",
      "HONEYBADGER\n"
     ]
    }
   ],
   "source": [
    "#Repeat Exercise 1, but convert each string to uppercase instead of lowercase.\n",
    "for s in strings:\n",
    "    print(s.upper())"
   ]
  },
  {
   "cell_type": "code",
   "execution_count": 18,
   "id": "837acc57-c7c7-4192-962f-59652f0b7fd5",
   "metadata": {},
   "outputs": [
    {
     "name": "stdout",
     "output_type": "stream",
     "text": [
      "Filet Mignon\n",
      "Brisket\n"
     ]
    }
   ],
   "source": [
    "#Write a script that removes whitespace from the following strings:\n",
    "#string1= \" Filet Mignon\"\n",
    "#string2= \"Brisket \"\n",
    "\n",
    "string1 = \" Filet Mignon\"\n",
    "string2 = \"Brisket \"\n",
    "\n",
    "print(string1.strip()) \n",
    "print(string2.strip()) \n"
   ]
  },
  {
   "cell_type": "code",
   "execution_count": 19,
   "id": "06e7f36f-0b79-4f9a-bf40-56dfa1d2dcae",
   "metadata": {},
   "outputs": [
    {
     "name": "stdout",
     "output_type": "stream",
     "text": [
      "True\n",
      "True\n"
     ]
    }
   ],
   "source": [
    "#Using the same strings from Exercise 4, write a script that uses string methods to alter each string so that .startswith(\"be\")  returns True for all of them\n",
    "string1 = \"Becomes\"\n",
    "string2 = \"becomes\"\n",
    "\n",
    "print(string1.lower().startswith(\"be\"))\n",
    "print(string2.lower().startswith(\"be\"))"
   ]
  },
  {
   "cell_type": "markdown",
   "id": "9e29b487-fa3f-4fb3-af38-e2a1c3e3b0cf",
   "metadata": {},
   "source": [
    "# REVIEW QUESTION 3"
   ]
  },
  {
   "cell_type": "code",
   "execution_count": 20,
   "id": "34be0a77-ebc2-4c58-934c-55c4a47b321b",
   "metadata": {},
   "outputs": [
    {
     "name": "stdin",
     "output_type": "stream",
     "text": [
      "Enter something:  hi\n"
     ]
    },
    {
     "name": "stdout",
     "output_type": "stream",
     "text": [
      "You entered: hi\n"
     ]
    }
   ],
   "source": [
    "#Write a script that takes input from the user and displays that input back\n",
    "user_input = input(\"Enter something: \")\n",
    "print(\"You entered:\", user_input)"
   ]
  },
  {
   "cell_type": "code",
   "execution_count": 21,
   "id": "eb49ef3f-2a20-4e1b-9382-31613508c99a",
   "metadata": {},
   "outputs": [
    {
     "name": "stdin",
     "output_type": "stream",
     "text": [
      "Enter something:  hi, dawn\n"
     ]
    },
    {
     "name": "stdout",
     "output_type": "stream",
     "text": [
      "Your input in lowercase: hi, dawn\n"
     ]
    }
   ],
   "source": [
    "#Write a script that takes input from the user and displays the input in lowercase.\n",
    "user_input = input(\"Enter something: \")\n",
    "print(\"Your input in lowercase:\", user_input.lower())"
   ]
  },
  {
   "cell_type": "code",
   "execution_count": 24,
   "id": "13ab5ac0-47af-493d-ab8d-5043808837be",
   "metadata": {},
   "outputs": [
    {
     "name": "stdin",
     "output_type": "stream",
     "text": [
      "Enter something:  123\n"
     ]
    },
    {
     "name": "stdout",
     "output_type": "stream",
     "text": [
      "Number of characters in your input: 3\n"
     ]
    }
   ],
   "source": [
    "#Write a script that takes input from the user and displays the number of characters inputted.\n",
    "user_input = input(\"Enter something: \")\n",
    "print(\"Number of characters in your input:\", len(user_input))"
   ]
  },
  {
   "cell_type": "markdown",
   "id": "5054a385-0ffa-4082-be6c-4f88b7b9afc1",
   "metadata": {},
   "source": [
    "# REVIEW QUESTION 4"
   ]
  },
  {
   "cell_type": "code",
   "execution_count": 26,
   "id": "37b0295f-590b-4d8b-aae0-c585ac8a9072",
   "metadata": {},
   "outputs": [
    {
     "name": "stdin",
     "output_type": "stream",
     "text": [
      "Tell me your name:  Dawn\n"
     ]
    },
    {
     "name": "stdout",
     "output_type": "stream",
     "text": [
      "The first letter of your name is: D\n"
     ]
    }
   ],
   "source": [
    "#Write a script named first_letter.py that first prompts the user for input by using the string \"Tell me your name:\" The script should then determine the\n",
    "# first letter of the user’s input, convert that letter to upper-case, and display it back.\n",
    "user_name = input(\"Tell me your name: \")\n",
    "\n",
    "first_letter = user_name[0].upper() \n",
    "print(\"The first letter of your name is:\", first_letter)"
   ]
  },
  {
   "cell_type": "markdown",
   "id": "e7eb58ff-ebf6-44f7-989a-4f4ec54b5fda",
   "metadata": {},
   "source": [
    "# REVIEW QUESTION 5"
   ]
  },
  {
   "cell_type": "code",
   "execution_count": 28,
   "id": "b1063dc0-a712-4ffe-b39b-042706e88e1f",
   "metadata": {},
   "outputs": [
    {
     "name": "stdout",
     "output_type": "stream",
     "text": [
      "Result of multiplication: 210\n"
     ]
    }
   ],
   "source": [
    "#Create a string containing an integer, then convert that string into an actual integer object using int(). Test that your new object is a number by multiplying it by another number and displaying the result.\\\n",
    "str_number = \"42\" \n",
    "int_number = int(str_number)  \n",
    "\n",
    "result = int_number * 5\n",
    "print(\"Result of multiplication:\", result)"
   ]
  },
  {
   "cell_type": "code",
   "execution_count": 29,
   "id": "37f67fbe-0e88-4fe1-b632-cefbdd3dbd03",
   "metadata": {},
   "outputs": [
    {
     "name": "stdout",
     "output_type": "stream",
     "text": [
      "Result of multiplication: 24.4\n"
     ]
    }
   ],
   "source": [
    "#Repeat the previous exercise, but use a floating-point number and float().\n",
    "str_float = \"12.2\"  \n",
    "float_number = float(str_float) \n",
    "\n",
    "result_float = float_number * 2\n",
    "print(\"Result of multiplication:\", result_float)"
   ]
  },
  {
   "cell_type": "code",
   "execution_count": 31,
   "id": "ea6f6f0b-4b1a-44bd-904c-424b2485ae00",
   "metadata": {},
   "outputs": [
    {
     "name": "stdout",
     "output_type": "stream",
     "text": [
      "String and Integer side by side: Age 25\n"
     ]
    }
   ],
   "source": [
    "#Create a string object string_obj = \"Age\"\n",
    "string_obj = \"Age\"\n",
    "int_obj = 25\n",
    "\n",
    "print(\"String and Integer side by side:\", string_obj + \" \" + str(int_obj))"
   ]
  },
  {
   "cell_type": "code",
   "execution_count": 32,
   "id": "f0312c85-160b-4151-8e80-7e804bff0b51",
   "metadata": {},
   "outputs": [
    {
     "name": "stdin",
     "output_type": "stream",
     "text": [
      "Enter the first number:  5\n",
      "Enter the second number:  3\n"
     ]
    },
    {
     "name": "stdout",
     "output_type": "stream",
     "text": [
      "The result of multiplication is: 15.0\n"
     ]
    }
   ],
   "source": [
    "#Write a script that gets two numbers from the user using the input() function twice, multiplies the numbers together, and displays the result.\n",
    "num1 = float(input(\"Enter the first number: \"))  \n",
    "num2 = float(input(\"Enter the second number: \")) \n",
    "\n",
    "result_multiplication = num1 * num2\n",
    "print(\"The result of multiplication is:\", result_multiplication)"
   ]
  },
  {
   "cell_type": "markdown",
   "id": "d95b4af5-6329-42ff-bbd6-fb54dd06d978",
   "metadata": {},
   "source": [
    "# REVIEW QUESTION 6"
   ]
  },
  {
   "cell_type": "code",
   "execution_count": 33,
   "id": "b70fe4b9-a404-4d06-9e8c-36ecf657e4a1",
   "metadata": {},
   "outputs": [
    {
     "name": "stdout",
     "output_type": "stream",
     "text": [
      "-1\n"
     ]
    }
   ],
   "source": [
    "# In one line of code, display the result of trying to .find() the substring \"a\" in the string \"AAA\n",
    "print(\"AAA\".find(\"a\"))"
   ]
  },
  {
   "cell_type": "code",
   "execution_count": 34,
   "id": "d528359b-e915-4ff5-af0e-a6bf053cc02a",
   "metadata": {},
   "outputs": [
    {
     "name": "stdout",
     "output_type": "stream",
     "text": [
      "Somebody yaid yomething to Samantha.\n"
     ]
    }
   ],
   "source": [
    "#Replace every occurrence of the character \"s\" with \"y” in the string \"Somebody said something to Samantha.\".\n",
    "original_str = \"Somebody said something to Samantha.\"\n",
    "replaced_str = original_str.replace(\"s\", \"y\")\n",
    "print(replaced_str)"
   ]
  },
  {
   "cell_type": "code",
   "execution_count": 35,
   "id": "84b05be2-e7da-4436-9571-ccd57e5f34e9",
   "metadata": {},
   "outputs": [
    {
     "name": "stdin",
     "output_type": "stream",
     "text": [
      "Enter a string:  dawn\n",
      "Enter a letter to find:  n\n"
     ]
    },
    {
     "name": "stdout",
     "output_type": "stream",
     "text": [
      "The letter 'n' is found at position: 3\n"
     ]
    }
   ],
   "source": [
    "# Write and test a script that accepts user input using the input() function and displays the result of trying to .find() a particular letter in that input\n",
    "user_input = input(\"Enter a string: \")\n",
    "letter_to_find = input(\"Enter a letter to find: \")\n",
    "\n",
    "position = user_input.find(letter_to_find)\n",
    "print(f\"The letter '{letter_to_find}' is found at position: {position}\")"
   ]
  },
  {
   "cell_type": "markdown",
   "id": "0e8fa897-6234-4981-85d8-97af3da10d03",
   "metadata": {},
   "source": [
    "# REVIEW QUESTION 7"
   ]
  },
  {
   "cell_type": "code",
   "execution_count": 37,
   "id": "027ecc11-2383-44b8-b0ae-dc5f3f4b55f4",
   "metadata": {},
   "outputs": [
    {
     "name": "stdin",
     "output_type": "stream",
     "text": [
      "Enter some text:  obregon\n"
     ]
    },
    {
     "name": "stdout",
     "output_type": "stream",
     "text": [
      "08r3g0n\n"
     ]
    }
   ],
   "source": [
    "# Write a script called translate.py that asks the user for some input\n",
    "# with the following prompt: Enter some text:. Then use the .replace()\n",
    "# method to convert the text entered by the user into “leetspeak” by making the following changes to lower-case letters:\n",
    "# • The letter a becomes 4\n",
    "# • The letter b becomes 8\n",
    "# • The letter e becomes 3\n",
    "# • The letter l becomes 1\n",
    "# • The letter o becomes 0\n",
    "# • The letter s becomes 5\n",
    "# • The letter t becomes 7\n",
    "# Your program should then display the resulting string as output. Below is a sample run of the program:\n",
    "# Enter some text: I like to eat eggs and spam.\n",
    "# I 1ik3 70 347 3gg5 4nd 5p4m\n",
    "\n",
    "text = input(\"Enter some text: \")\n",
    "\n",
    "text = text.lower()\n",
    "\n",
    "text = text.replace('a', '4')\n",
    "text = text.replace('b', '8')\n",
    "text = text.replace('e', '3')\n",
    "text = text.replace('l', '1')\n",
    "text = text.replace('o', '0')\n",
    "text = text.replace('s', '5')\n",
    "text = text.replace('t', '7')\n",
    "\n",
    "print(text)"
   ]
  },
  {
   "cell_type": "code",
   "execution_count": null,
   "id": "3c5092fd-8bbb-4503-8984-072d75ee8cea",
   "metadata": {},
   "outputs": [],
   "source": []
  },
  {
   "cell_type": "code",
   "execution_count": null,
   "id": "dabf051f-044a-4671-a964-c443938a8e8a",
   "metadata": {},
   "outputs": [],
   "source": []
  },
  {
   "cell_type": "code",
   "execution_count": null,
   "id": "9fe007ce-bf38-432e-ba8a-0718bc948a16",
   "metadata": {},
   "outputs": [],
   "source": []
  }
 ],
 "metadata": {
  "kernelspec": {
   "display_name": "Python 3 (ipykernel)",
   "language": "python",
   "name": "python3"
  },
  "language_info": {
   "codemirror_mode": {
    "name": "ipython",
    "version": 3
   },
   "file_extension": ".py",
   "mimetype": "text/x-python",
   "name": "python",
   "nbconvert_exporter": "python",
   "pygments_lexer": "ipython3",
   "version": "3.13.5"
  }
 },
 "nbformat": 4,
 "nbformat_minor": 5
}
