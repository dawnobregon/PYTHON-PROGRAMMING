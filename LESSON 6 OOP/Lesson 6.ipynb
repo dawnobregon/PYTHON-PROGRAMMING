{
 "cells": [
  {
   "cell_type": "markdown",
   "id": "716799e2-e81d-4eda-8e1d-c8189a585376",
   "metadata": {},
   "source": [
    "# REVIEW EXERCISE 1"
   ]
  },
  {
   "cell_type": "code",
   "execution_count": 2,
   "id": "564c4919-0057-48ae-802e-a822c960c1f5",
   "metadata": {},
   "outputs": [
    {
     "ename": "SyntaxError",
     "evalue": "invalid decimal literal (1159827906.py, line 1)",
     "output_type": "error",
     "traceback": [
      "\u001b[1;36m  Cell \u001b[1;32mIn[2], line 1\u001b[1;36m\u001b[0m\n\u001b[1;33m    1.Modify the dog class to include a third instnce attribute called coat_color that stores the color of the dog's coat as a string, store your new class in a script and test it out by adding the following code at the bottom of the script:\u001b[0m\n\u001b[1;37m     ^\u001b[0m\n\u001b[1;31mSyntaxError\u001b[0m\u001b[1;31m:\u001b[0m invalid decimal literal\n"
     ]
    }
   ],
   "source": [
    "1.Modify the dog class to include a third instnce attribute called coat_color that stores the color of the dog's coat as a string, store your new class in a script and test it out by adding the following code at the bottom of the script:\n",
    "# philo = Dog(\"Philo\", 5. \"Brown\")\n",
    "# print(f\"{philo.name}'s coat if {philo.coat_color}.\")\n",
    "# The output of your script should be:\n",
    "\n",
    "# Philo's coat is brown.\n",
    "\n",
    "class Dog:\n",
    "    def __init__(self, name, age, coat_color):\n",
    "        self.name = name\n",
    "        self.age = age\n",
    "        self.coat_color = coat_color\n",
    "\n",
    "philo = Dog(\"Philo\", 5, \"Brown\")\n",
    "\n",
    "print(f\"{philo.name}'s coat is {philo.coat_color.lower()}.\")"
   ]
  },
  {
   "cell_type": "code",
   "execution_count": null,
   "id": "09157ded-2685-4481-ba22-cd3b1575ae06",
   "metadata": {},
   "outputs": [],
   "source": []
  }
 ],
 "metadata": {
  "kernelspec": {
   "display_name": "Python [conda env:base] *",
   "language": "python",
   "name": "conda-base-py"
  },
  "language_info": {
   "codemirror_mode": {
    "name": "ipython",
    "version": 3
   },
   "file_extension": ".py",
   "mimetype": "text/x-python",
   "name": "python",
   "nbconvert_exporter": "python",
   "pygments_lexer": "ipython3",
   "version": "3.13.5"
  }
 },
 "nbformat": 4,
 "nbformat_minor": 5
}
