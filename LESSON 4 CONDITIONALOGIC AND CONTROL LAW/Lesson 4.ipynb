{
 "cells": [
  {
   "cell_type": "markdown",
   "id": "e34e0d75-bf13-42e7-8932-db5133aa705c",
   "metadata": {},
   "source": [
    "# REVIEW QUESTION 1"
   ]
  },
  {
   "cell_type": "code",
   "execution_count": 2,
   "id": "5635884d-e158-4a3e-9fcc-7dcda947c044",
   "metadata": {},
   "outputs": [
    {
     "name": "stdout",
     "output_type": "stream",
     "text": [
      "True\n",
      "False\n",
      "True\n",
      "True\n",
      "True\n",
      "False\n"
     ]
    }
   ],
   "source": [
    "# 1. For each of the following conditional expressions, guess whether they evaluate to True or False. \n",
    "# Then type them into the interactive window to check your answers:\n",
    "\n",
    "print(1 <= 1)\n",
    "print(1 != 1)\n",
    "print(1 != 2)\n",
    "print(\"good\" != \"bad\")\n",
    "print(\"good\" != \"Good\")\n",
    "print(123 == \"123\")"
   ]
  },
  {
   "cell_type": "code",
   "execution_count": 4,
   "id": "9057a41e-090f-48cd-b117-660aa4027c37",
   "metadata": {},
   "outputs": [
    {
     "name": "stdout",
     "output_type": "stream",
     "text": [
      "True\n",
      "True\n",
      "True\n",
      "True\n"
     ]
    }
   ],
   "source": [
    "print(3<4)\n",
    "print(10>5)\n",
    "print(\"jack\" != \"jill\")\n",
    "print(42 != \"42\")"
   ]
  },
  {
   "cell_type": "markdown",
   "id": "21f9864e-ecf8-4f55-a1bd-8aea58373026",
   "metadata": {},
   "source": [
    "# REVIEW QUESTION 2"
   ]
  },
  {
   "cell_type": "code",
   "execution_count": 5,
   "id": "7b196ff0-1e7d-4015-9a79-945ef9e17a34",
   "metadata": {},
   "outputs": [
    {
     "name": "stdout",
     "output_type": "stream",
     "text": [
      "False\n",
      "False\n",
      "True\n",
      "False\n"
     ]
    }
   ],
   "source": [
    "#  WRITE A SCRIPT THAT PROMPTS THE USER TO ENTER A WORD USING THE INPUT()\n",
    "# FUNCTION, STORES THAT INPUT IN A VARIABLE, AND THEN DISPLAYS WHETHER THE\n",
    "# LENGTH OF THAT STRING IS LESS THAN 5 CHARACTERS, GREATER THAN 5CHARACTERS,\n",
    "# OR EQUAL TO 5 CHARACTERS BY USING A SET OF IF, ELIF AND ELSE STATEMENTS\n",
    "\n",
    "print((1 <= 1) and (1 != 1))\n",
    "print(not (1 != 2))\n",
    "print((\"good\" != \"bad\") or False)\n",
    "print((\"good\" != \"Good\") and not (1==1))"
   ]
  },
  {
   "cell_type": "code",
   "execution_count": 6,
   "id": "555b53b4-c6e5-4d1b-a2a1-282d7d8a258a",
   "metadata": {},
   "outputs": [
    {
     "name": "stdout",
     "output_type": "stream",
     "text": [
      "True\n",
      "True\n",
      "False\n"
     ]
    }
   ],
   "source": [
    "print(False == (not True))\n",
    "print((True and False) == (True and False))\n",
    "print((not True) and (\"A\" == \"B\"))"
   ]
  },
  {
   "cell_type": "markdown",
   "id": "138bd643-cc81-447a-a3d9-46a02240aafd",
   "metadata": {},
   "source": [
    "# REVIEW QUESTION 3"
   ]
  },
  {
   "cell_type": "code",
   "execution_count": 7,
   "id": "66aafb52-8b45-45fd-b376-42ac04b84f2e",
   "metadata": {},
   "outputs": [
    {
     "name": "stdin",
     "output_type": "stream",
     "text": [
      "Enter a word:  \n"
     ]
    },
    {
     "name": "stdout",
     "output_type": "stream",
     "text": [
      "The length of the word is less than 5 characters.\n"
     ]
    }
   ],
   "source": [
    "# 1.USING BREAK, WRITE A PROGRAM THAT REPEATEDLY ASKS THE USER FOR SOME INPUT AND ONLY QUITS IF THE USER ENTERS \"Q\" OR \"Q\".\n",
    "\n",
    "word = input (\"Enter a word: \")\n",
    "if len(word) < 5:\n",
    "    print(\"The length of the word is less than 5 characters.\")\n",
    "elif len(word) > 5:\n",
    "    print(\"The length of the word is greater than 5 characters.\")\n",
    "else:\n",
    "    print(\"The length of the word is equal to 5 characters.\")\n"
   ]
  },
  {
   "cell_type": "markdown",
   "id": "0d2168d7-5f23-4495-a368-ccc9b5f0d826",
   "metadata": {},
   "source": [
    "# REVIEW QUESTION 4"
   ]
  },
  {
   "cell_type": "code",
   "execution_count": 8,
   "id": "ed4c6ced-781d-4ce4-909f-b95c05d21fd9",
   "metadata": {},
   "outputs": [
    {
     "name": "stdin",
     "output_type": "stream",
     "text": [
      "Enter something (or 'Q' to quit):  A\n"
     ]
    },
    {
     "name": "stdout",
     "output_type": "stream",
     "text": [
      "You entered: A\n"
     ]
    },
    {
     "name": "stdin",
     "output_type": "stream",
     "text": [
      "Enter something (or 'Q' to quit):  Q\n"
     ]
    },
    {
     "name": "stdout",
     "output_type": "stream",
     "text": [
      "Quitting the program.\n"
     ]
    }
   ],
   "source": [
    "while True:\n",
    "    user_input = input(\"Enter something (or 'Q' to quit): \")\n",
    "    if user_input == \"Q\" or user_input == \"q\":\n",
    "        print(\"Quitting the program.\")\n",
    "        break\n",
    "    else:\n",
    "        print(f\"You entered: {user_input}\")"
   ]
  },
  {
   "cell_type": "code",
   "execution_count": 9,
   "id": "ae3e380f-ea88-474f-8fde-dd6099a7c83b",
   "metadata": {},
   "outputs": [
    {
     "name": "stdout",
     "output_type": "stream",
     "text": [
      "1\n",
      "2\n",
      "4\n",
      "5\n",
      "7\n",
      "8\n",
      "10\n",
      "11\n",
      "13\n",
      "14\n",
      "16\n",
      "17\n",
      "19\n",
      "20\n",
      "22\n",
      "23\n",
      "25\n",
      "26\n",
      "28\n",
      "29\n",
      "31\n",
      "32\n",
      "34\n",
      "35\n",
      "37\n",
      "38\n",
      "40\n",
      "41\n",
      "43\n",
      "44\n",
      "46\n",
      "47\n",
      "49\n",
      "50\n"
     ]
    }
   ],
   "source": [
    "for n in range(1,51):\n",
    "    if n % 3 == 0:\n",
    "        continue\n",
    "    print(n)"
   ]
  },
  {
   "cell_type": "markdown",
   "id": "8fd91c88-db21-45bd-b4bf-5fe4563297e2",
   "metadata": {},
   "source": [
    "# REVIEW QUESTION 5"
   ]
  },
  {
   "cell_type": "code",
   "execution_count": 10,
   "id": "48a64ff0-dec5-4c32-9fae-9ebf546b7b7c",
   "metadata": {},
   "outputs": [
    {
     "name": "stdin",
     "output_type": "stream",
     "text": [
      "Please enter an integer:  2\n"
     ]
    },
    {
     "name": "stdout",
     "output_type": "stream",
     "text": [
      "You entered the integer: 2\n"
     ]
    }
   ],
   "source": [
    "while True:\n",
    "    user_input = input(\"Please enter an integer: \")\n",
    "    try:\n",
    "        num = int(user_input)\n",
    "        print(f\"You entered the integer: {num}\")\n",
    "        break\n",
    "    except ValueError:\n",
    "        print(\"Try again. That was not a valid integer.\")"
   ]
  },
  {
   "cell_type": "code",
   "execution_count": 11,
   "id": "9dbf5eb9-2be8-43c0-9745-8abd2bca77a7",
   "metadata": {},
   "outputs": [
    {
     "name": "stdin",
     "output_type": "stream",
     "text": [
      "Enter a string:  AA\n",
      "Enter an index number:  2\n"
     ]
    },
    {
     "name": "stdout",
     "output_type": "stream",
     "text": [
      "Invalid index! The string length is 2\n"
     ]
    }
   ],
   "source": [
    "text = input(\"Enter a string: \")\n",
    "n = int(input(\"Enter an index number: \"))\n",
    "if 0 <= n < len(text):\n",
    "    print(\"Character at index\", n, \"is:\", text[n])\n",
    "else:\n",
    "    print(\"Invalid index! The string length is\", len(text))"
   ]
  },
  {
   "cell_type": "markdown",
   "id": "cb3461c4-4b1e-4e20-b72d-a2914d0fbba8",
   "metadata": {},
   "source": [
    "# REVIEW QUESTION 6"
   ]
  },
  {
   "cell_type": "code",
   "execution_count": 12,
   "id": "ba3a7398-3805-409f-a9f6-4936d23702b6",
   "metadata": {},
   "outputs": [],
   "source": [
    "import random\n",
    "\n",
    "def roll():\n",
    "    return random.randint(1, 6)"
   ]
  },
  {
   "cell_type": "code",
   "execution_count": 13,
   "id": "38b110da-3843-42d6-b4aa-571af4b65a56",
   "metadata": {},
   "outputs": [
    {
     "name": "stdout",
     "output_type": "stream",
     "text": [
      "Average number rolled after 10000 rolls:  3.5118\n"
     ]
    }
   ],
   "source": [
    "total = 0\n",
    "rolls = 10000\n",
    "\n",
    "for _ in range(rolls):\n",
    "    total += roll()\n",
    "\n",
    "average = total / rolls\n",
    "print(f\"Average number rolled after\" ,rolls, \"rolls: \",average)"
   ]
  },
  {
   "cell_type": "code",
   "execution_count": null,
   "id": "1e2085f4-d92d-4639-89b3-9146d6f2d083",
   "metadata": {},
   "outputs": [],
   "source": [
    "# CHALLEN"
   ]
  }
 ],
 "metadata": {
  "kernelspec": {
   "display_name": "Python [conda env:base] *",
   "language": "python",
   "name": "conda-base-py"
  },
  "language_info": {
   "codemirror_mode": {
    "name": "ipython",
    "version": 3
   },
   "file_extension": ".py",
   "mimetype": "text/x-python",
   "name": "python",
   "nbconvert_exporter": "python",
   "pygments_lexer": "ipython3",
   "version": "3.13.5"
  }
 },
 "nbformat": 4,
 "nbformat_minor": 5
}
