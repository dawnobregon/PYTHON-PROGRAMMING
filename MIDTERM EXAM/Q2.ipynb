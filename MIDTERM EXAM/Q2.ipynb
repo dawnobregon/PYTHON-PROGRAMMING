{
 "cells": [
  {
   "cell_type": "code",
   "execution_count": 2,
   "id": "dbf303c6-95a6-49fd-a6d3-0dc2689f2ed2",
   "metadata": {},
   "outputs": [
    {
     "name": "stdout",
     "output_type": "stream",
     "text": [
      "h3ll0 w0rld\n"
     ]
    }
   ],
   "source": [
    "#ChatGPT Code (Verbatim\n",
    "\n",
    "def translate(text, mapping):\n",
    "    result = \"\"\n",
    "    for ch in text.lower():\n",
    "        result += mapping.get(ch, ch)\n",
    "    return result\n",
    "\n",
    "print(translate(\"Hello World\", {'a':'4','e':'3','o':'0'}))\n",
    "\n"
   ]
  },
  {
   "cell_type": "code",
   "execution_count": null,
   "id": "5f46fe34-30ea-4903-979a-d46a4c9a6024",
   "metadata": {},
   "outputs": [],
   "source": [
    "#Critique\n",
    "\n",
    "Correctness: Works for normal input; replaces lowercase letters according to mapping.\n",
    "\n",
    "Time & Space Complexity:\n",
    "\n",
    "Time: O(n) for iterating over text; O(n*m) if repeated concatenation is used inefficiently.\n",
    "\n",
    "Space: O(n) for the resulting string.\n",
    "\n",
    "Using += repeatedly is inefficient for long strings due to string immutability.\n",
    "\n",
    "Robustness: Does not validate input types; empty strings or empty mappings work fine.\n",
    "\n",
    "Readability/Style: Variable names clear; no docstring; could improve efficiency using list comprehension + join.\n",
    "\n",
    "Faithfulness to Lectures: Demonstrates string replacement and immutability; highlights efficient string building techniques.\n",
    "\n",
    "Notes on immutability:\n",
    "\n",
    "Strings are immutable in Python → each += creates a new string, causing O(n²) time in repeated concatenation.\n",
    "\n",
    "Efficient approach: build a list of characters and ''.join() at the end (O(n) time)."
   ]
  },
  {
   "cell_type": "code",
   "execution_count": 3,
   "id": "dccfde3c-825f-430b-b83d-bfd3b593b135",
   "metadata": {},
   "outputs": [
    {
     "name": "stdout",
     "output_type": "stream",
     "text": [
      "All tests passed.\n"
     ]
    }
   ],
   "source": [
    "#Improved Code\n",
    "def translate(text: str, mapping: dict[str, str]) -> str:\n",
    "    \"\"\"\n",
    "    Translate lowercase letters in text according to mapping dictionary.\n",
    "    Characters not in mapping remain unchanged. Efficiently builds the output string.\n",
    "    \"\"\"\n",
    "    if not isinstance(text, str) or not isinstance(mapping, dict):\n",
    "        raise TypeError(\"text must be a string and mapping must be a dictionary\")\n",
    "\n",
    "    result_chars = [\n",
    "        mapping.get(ch, ch) if ch.islower() else ch\n",
    "        for ch in text\n",
    "    ]\n",
    "    return ''.join(result_chars)\n",
    "\n",
    "\n",
    "if __name__ == \"__main__\":\n",
    "    mapping = {'a':'4', 'e':'3', 'o':'0', 'l':'1'}\n",
    "    assert translate(\"Hello World\", mapping) == \"H3110 W0r1d\"\n",
    "    assert translate(\"\", mapping) == \"\"\n",
    "    assert translate(\"Python\", mapping) == \"Pyth0n\"\n",
    "    assert translate(\"AEIOU\", mapping) == \"AEIOU\"\n",
    "    print(\"All tests passed.\")\n"
   ]
  },
  {
   "cell_type": "code",
   "execution_count": null,
   "id": "1803516e-32da-4446-9567-ff6598294329",
   "metadata": {},
   "outputs": [],
   "source": [
    "Improvements Made:\n",
    "\n",
    "Uses list comprehension + join for efficiency (O(n) time).\n",
    "\n",
    "Adds docstring and input validation.\n",
    "\n",
    "Handles uppercase letters and non-mapped characters correctly.\n",
    "\n",
    "Test cases include normal and edge cases.\n",
    "\n",
    "Complexity:\n",
    "\n",
    "Time: O(n)\n",
    "\n",
    "Space: O(n)\n",
    "\n",
    "Lecture References:\n",
    "\n",
    "str.islower(), mapping via dict.get() → replacement logic\n",
    "\n",
    "String immutability → efficient building with list join\n",
    "\n",
    "Loops, comprehension, and string methods"
   ]
  }
 ],
 "metadata": {
  "kernelspec": {
   "display_name": "Python [conda env:base] *",
   "language": "python",
   "name": "conda-base-py"
  },
  "language_info": {
   "codemirror_mode": {
    "name": "ipython",
    "version": 3
   },
   "file_extension": ".py",
   "mimetype": "text/x-python",
   "name": "python",
   "nbconvert_exporter": "python",
   "pygments_lexer": "ipython3",
   "version": "3.13.5"
  }
 },
 "nbformat": 4,
 "nbformat_minor": 5
}
