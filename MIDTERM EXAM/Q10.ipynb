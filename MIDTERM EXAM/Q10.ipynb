{
 "cells": [
  {
   "cell_type": "code",
   "execution_count": 1,
   "id": "a11f230c-8af9-4637-a33a-c72f95091208",
   "metadata": {},
   "outputs": [
    {
     "name": "stdin",
     "output_type": "stream",
     "text": [
      "Convert to Celsius (C) or Fahrenheit (F)?  c\n",
      "Enter temperature:  2\n"
     ]
    },
    {
     "name": "stdout",
     "output_type": "stream",
     "text": [
      "35.6 F\n"
     ]
    }
   ],
   "source": [
    "#ChatGPT Code (Verbatim)\n",
    "\n",
    "def cel_to_far(c):\n",
    "    return c * 9/5 + 32\n",
    "\n",
    "def far_to_cel(f):\n",
    "    return (f - 32) * 5/9\n",
    "\n",
    "direction = input(\"Convert to Celsius (C) or Fahrenheit (F)? \").strip().upper()\n",
    "temp_str = input(\"Enter temperature: \")\n",
    "\n",
    "if direction == \"C\":\n",
    "    print(f\"{cel_to_far(float(temp_str))} F\")\n",
    "elif direction == \"F\":\n",
    "    print(f\"{far_to_cel(float(temp_str))} C\")\n",
    "else:\n",
    "    print(\"Invalid direction\")\n"
   ]
  },
  {
   "cell_type": "code",
   "execution_count": null,
   "id": "1d2758d1-f4a3-4bbb-a6ee-4fcd45272c25",
   "metadata": {},
   "outputs": [],
   "source": [
    "#Critique\n",
    "\n",
    "Correctness: ✅ Performs conversions correctly.\n",
    "\n",
    "Time & Space Complexity: O(1) per conversion.\n",
    "\n",
    "Robustness: ❌ Does not handle invalid numeric input gracefully (ValueError if non-numeric).\n",
    "\n",
    "Readability/Style: Could add docstrings, type hints, and structured CLI with loop.\n",
    "\n",
    "Faithfulness to Lectures: Uses functions, arithmetic, control flow, and input."
   ]
  },
  {
   "cell_type": "code",
   "execution_count": null,
   "id": "19ba1c7b-9826-4eb4-a84a-fbe091b8674b",
   "metadata": {},
   "outputs": [
    {
     "name": "stdin",
     "output_type": "stream",
     "text": [
      "Convert to Celsius (C) or Fahrenheit (F)? (Q to quit)  2\n"
     ]
    },
    {
     "name": "stdout",
     "output_type": "stream",
     "text": [
      "Invalid choice. Please enter C, F, or Q.\n"
     ]
    },
    {
     "name": "stdin",
     "output_type": "stream",
     "text": [
      "Convert to Celsius (C) or Fahrenheit (F)? (Q to quit)  c\n",
      "Enter temperature:  23\n"
     ]
    },
    {
     "name": "stdout",
     "output_type": "stream",
     "text": [
      "23.0°C = 73.40°F\n"
     ]
    }
   ],
   "source": [
    "#Improved Code\n",
    "def cel_to_far(c: float) -> float:\n",
    "    \"\"\"\n",
    "    Convert Celsius to Fahrenheit.\n",
    "\n",
    "    >>> cel_to_far(0)\n",
    "    32.0\n",
    "    >>> cel_to_far(-40)\n",
    "    -40.0\n",
    "    >>> cel_to_far(100)\n",
    "    212.0\n",
    "    \"\"\"\n",
    "    return c * 9 / 5 + 32\n",
    "\n",
    "\n",
    "def far_to_cel(f: float) -> float:\n",
    "    \"\"\"\n",
    "    Convert Fahrenheit to Celsius.\n",
    "\n",
    "    >>> far_to_cel(32)\n",
    "    0.0\n",
    "    >>> far_to_cel(-40)\n",
    "    -40.0\n",
    "    >>> far_to_cel(212)\n",
    "    100.0\n",
    "    \"\"\"\n",
    "    return (f - 32) * 5 / 9\n",
    "\n",
    "\n",
    "def main():\n",
    "    \"\"\"CLI for temperature conversion with input validation.\"\"\"\n",
    "    while True:\n",
    "        direction = input(\"Convert to Celsius (C) or Fahrenheit (F)? (Q to quit) \").strip().upper()\n",
    "        if direction == \"Q\":\n",
    "            print(\"Exiting converter.\")\n",
    "            break\n",
    "        if direction not in {\"C\", \"F\"}:\n",
    "            print(\"Invalid choice. Please enter C, F, or Q.\")\n",
    "            continue\n",
    "\n",
    "        temp_str = input(\"Enter temperature: \").strip()\n",
    "        try:\n",
    "            temp = float(temp_str)\n",
    "        except ValueError:\n",
    "            print(\"Invalid temperature. Please enter a numeric value.\")\n",
    "            continue\n",
    "\n",
    "        if direction == \"C\":\n",
    "            print(f\"{temp}°C = {cel_to_far(temp):.2f}°F\")\n",
    "        else:\n",
    "            print(f\"{temp}°F = {far_to_cel(temp):.2f}°C\")\n",
    "\n",
    "\n",
    "if __name__ == \"__main__\":\n",
    "    main()\n"
   ]
  },
  {
   "cell_type": "code",
   "execution_count": null,
   "id": "d0d1a488-75bd-4768-9d1d-330793a69f18",
   "metadata": {},
   "outputs": [],
   "source": [
    "Improvements Made\n",
    "\n",
    "Added type hints and docstrings with examples.\n",
    "\n",
    "Added CLI loop with graceful input validation.\n",
    "\n",
    "Handles non-numeric input without crashing.\n",
    "\n",
    "Includes edge cases (-40°C = -40°F).\n",
    "\n",
    "Simple asserts act as unit tests for automated checking.\n",
    "\n",
    "Lecture References:\n",
    "\n",
    "Writing functions with docstrings and type hints\n",
    "\n",
    "Control flow: loops, if/else\n",
    "\n",
    "Input handling with exceptions\n",
    "\n",
    "Testing and edge cases"
   ]
  }
 ],
 "metadata": {
  "kernelspec": {
   "display_name": "Python [conda env:base] *",
   "language": "python",
   "name": "conda-base-py"
  },
  "language_info": {
   "codemirror_mode": {
    "name": "ipython",
    "version": 3
   },
   "file_extension": ".py",
   "mimetype": "text/x-python",
   "name": "python",
   "nbconvert_exporter": "python",
   "pygments_lexer": "ipython3",
   "version": "3.13.5"
  }
 },
 "nbformat": 4,
 "nbformat_minor": 5
}
