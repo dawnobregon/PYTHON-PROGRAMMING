{
 "cells": [
  {
   "cell_type": "code",
   "execution_count": 1,
   "id": "7d52e825-2bd6-49ee-92db-0f8ab16a4304",
   "metadata": {},
   "outputs": [
    {
     "name": "stdout",
     "output_type": "stream",
     "text": [
      "Estimated probability: 0.16422\n",
      "Exact probability: 6/36 = 0.16666666666666666\n"
     ]
    }
   ],
   "source": [
    "#ChatGPT Code (Verbatim)\n",
    "\n",
    "import random\n",
    "\n",
    "def roll():\n",
    "    return random.randint(1,6)\n",
    "\n",
    "count = 0\n",
    "for _ in range(100000):\n",
    "    if roll() + roll() == 7:\n",
    "        count += 1\n",
    "\n",
    "print(\"Estimated probability:\", count/100000)\n",
    "print(\"Exact probability: 6/36 =\", 6/36)\n"
   ]
  },
  {
   "cell_type": "code",
   "execution_count": null,
   "id": "0b4d37ee-e66f-4b7e-b0bf-c77fbb5428d0",
   "metadata": {},
   "outputs": [],
   "source": [
    "#Critique\n",
    "\n",
    "Correctness: ✅\n",
    "\n",
    "Correctly simulates a fair die.\n",
    "\n",
    "Estimates probability of sum = 7.\n",
    "\n",
    "Prints exact probability for comparison.\n",
    "\n",
    "Time & Space Complexity:\n",
    "\n",
    "Time: O(n) where n = number of simulations (100,000)\n",
    "\n",
    "Space: O(1)\n",
    "\n",
    "Robustness: Works as intended; no input required. Could include optional seeding for reproducibility.\n",
    "\n",
    "Readability/Style: Clear and concise; could add a docstring and use a main guard (if __name__ == \"__main__\":).\n",
    "\n",
    "Faithfulness to Lectures: Uses random.randint, loops, counting, and probability estimation.\n",
    "\n",
    "Notes on Random Seeding:\n",
    "\n",
    "Without seeding, results vary every run.\n",
    "\n",
    "random.seed(value) ensures reproducibility for debugging or grading."
   ]
  },
  {
   "cell_type": "code",
   "execution_count": 2,
   "id": "1e6106af-4030-423d-9af5-8d94000ed090",
   "metadata": {},
   "outputs": [
    {
     "name": "stdout",
     "output_type": "stream",
     "text": [
      "Estimated probability (empirical): 0.1646\n",
      "Exact probability: 0.1667\n"
     ]
    }
   ],
   "source": [
    "#Improved Code\n",
    "import random\n",
    "\n",
    "def roll() -> int:\n",
    "    \"\"\"Simulate a fair six-sided die and return the result.\"\"\"\n",
    "    return random.randint(1, 6)\n",
    "\n",
    "\n",
    "if __name__ == \"__main__\":\n",
    "    # Optional: seed for reproducibility\n",
    "    random.seed(42)\n",
    "\n",
    "    n_simulations = 100_000\n",
    "    count_sum_7 = 0\n",
    "\n",
    "    for _ in range(n_simulations):\n",
    "        if roll() + roll() == 7:\n",
    "            count_sum_7 += 1\n",
    "\n",
    "    empirical_prob = count_sum_7 / n_simulations\n",
    "    exact_prob = 6 / 36  # Probability of sum = 7 for two fair dice\n",
    "\n",
    "    print(f\"Estimated probability (empirical): {empirical_prob:.4f}\")\n",
    "    print(f\"Exact probability: {exact_prob:.4f}\")\n",
    "\n",
    "    # Comment: Seeding ensures the same results for reproducibility.\n"
   ]
  },
  {
   "cell_type": "code",
   "execution_count": null,
   "id": "10b93b4f-9915-4cf4-be8f-733d90e1cd86",
   "metadata": {},
   "outputs": [],
   "source": [
    "Improvements Made:\n",
    "\n",
    "Added docstring for roll().\n",
    "\n",
    "Added main guard.\n",
    "\n",
    "Included random seed for reproducibility.\n",
    "\n",
    "Formatted output for clarity.\n",
    "\n",
    "Complexity:\n",
    "\n",
    "Time: O(n)\n",
    "\n",
    "Space: O(1)\n",
    "\n",
    "Lecture References:\n",
    "\n",
    "random.randint → simulating randomness\n",
    "\n",
    "Monte Carlo simulation → empirical probability estimation\n",
    "\n",
    "Loops, counters, averages"
   ]
  }
 ],
 "metadata": {
  "kernelspec": {
   "display_name": "Python [conda env:base] *",
   "language": "python",
   "name": "conda-base-py"
  },
  "language_info": {
   "codemirror_mode": {
    "name": "ipython",
    "version": 3
   },
   "file_extension": ".py",
   "mimetype": "text/x-python",
   "name": "python",
   "nbconvert_exporter": "python",
   "pygments_lexer": "ipython3",
   "version": "3.13.5"
  }
 },
 "nbformat": 4,
 "nbformat_minor": 5
}
