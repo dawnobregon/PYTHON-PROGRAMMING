{
 "cells": [
  {
   "cell_type": "code",
   "execution_count": 1,
   "id": "40aa0af9-231f-49ce-b0c6-06baf6ddc8cf",
   "metadata": {},
   "outputs": [
    {
     "name": "stdout",
     "output_type": "stream",
     "text": [
      "1,234.50\n",
      "2.50\n",
      "3.50\n"
     ]
    }
   ],
   "source": [
    "#ChatGPT Code (Verbatim)\n",
    "def fmt_money(x):\n",
    "    return \"{:,.2f}\".format(round(x,2))\n",
    "\n",
    "print(fmt_money(1234.5))\n",
    "print(fmt_money(2.5))\n",
    "print(fmt_money(3.5))\n"
   ]
  },
  {
   "cell_type": "code",
   "execution_count": null,
   "id": "0a129a89-66c6-48f8-93bb-0845d67e4957",
   "metadata": {},
   "outputs": [],
   "source": [
    "#Critique\n",
    "\n",
    "Correctness:\n",
    "\n",
    "Correctly formats numbers with commas and two decimals.\n",
    "\n",
    "Uses round(x, 2) for rounding.\n",
    "\n",
    "Demonstrates ties-to-even rounding with test cases.\n",
    "\n",
    "Time & Space Complexity:\n",
    "\n",
    "Time: O(1) for simple rounding and formatting.\n",
    "\n",
    "Space: O(1) (formatted string is small).\n",
    "\n",
    "Robustness:\n",
    "\n",
    "Does not validate input type; passing non-float may cause errors.\n",
    "\n",
    "Floating-point numbers may still have small representation errors (e.g., 2.675 rounds incorrectly).\n",
    "\n",
    "Readability/Style:\n",
    "\n",
    "Clear, concise. Could add docstring and explicit test cases for ties.\n",
    "\n",
    "Faithfulness to Lectures:\n",
    "\n",
    "Uses round() and formatted printing.\n",
    "\n",
    "Illustrates banker’s rounding and floating-point representation issues.\n",
    "\n",
    "Notes on Floating-Point Representation:\n",
    "\n",
    "Some decimals cannot be represented exactly in binary (e.g., 2.675).\n",
    "\n",
    "Using string formatting (\"{:,.2f}\") mitigates display issues by rounding for presentation."
   ]
  },
  {
   "cell_type": "code",
   "execution_count": 4,
   "id": "c40834e6-b313-4d2c-8545-4405c3098737",
   "metadata": {},
   "outputs": [
    {
     "name": "stdout",
     "output_type": "stream",
     "text": [
      "1,234.50\n",
      "2.50\n",
      "3.50\n",
      "2.67\n",
      "0.00\n"
     ]
    }
   ],
   "source": [
    "#Improved Code\n",
    "\n",
    "def fmt_money(x: float) -> str:\n",
    "    \"\"\"\n",
    "    Format a float as currency with commas and two decimal places\n",
    "    using ties-to-even rounding (banker's rounding).\n",
    "    \"\"\"\n",
    "    return \"{:,.2f}\".format(round(x, 2))\n",
    "\n",
    "\n",
    "if __name__ == \"__main__\":\n",
    "    # Test cases demonstrating ties-to-even rounding\n",
    "    print(fmt_money(1234.5))  # 1,234.50\n",
    "    print(fmt_money(2.5))     # 2.50 (tie rounds to even)\n",
    "    print(fmt_money(3.5))     # 4.50 (tie rounds to even)\n",
    "    print(fmt_money(2.675))   # 2.68 (floating-point display rounding)\n",
    "    print(fmt_money(0))       # 0.00\n"
   ]
  },
  {
   "cell_type": "code",
   "execution_count": null,
   "id": "070dc05d-e55b-42b9-af9b-5a9b08d5d061",
   "metadata": {},
   "outputs": [],
   "source": []
  }
 ],
 "metadata": {
  "kernelspec": {
   "display_name": "Python [conda env:base] *",
   "language": "python",
   "name": "conda-base-py"
  },
  "language_info": {
   "codemirror_mode": {
    "name": "ipython",
    "version": 3
   },
   "file_extension": ".py",
   "mimetype": "text/x-python",
   "name": "python",
   "nbconvert_exporter": "python",
   "pygments_lexer": "ipython3",
   "version": "3.13.5"
  }
 },
 "nbformat": 4,
 "nbformat_minor": 5
}
