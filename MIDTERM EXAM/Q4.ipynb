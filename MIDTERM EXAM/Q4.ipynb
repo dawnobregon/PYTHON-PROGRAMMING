{
 "cells": [
  {
   "cell_type": "code",
   "execution_count": 1,
   "id": "8e143b79-d31c-4542-a7e8-23423201f098",
   "metadata": {},
   "outputs": [
    {
     "name": "stdin",
     "output_type": "stream",
     "text": [
      "Enter base:  C\n",
      "Enter exponent:  -\n"
     ]
    },
    {
     "name": "stdout",
     "output_type": "stream",
     "text": [
      "Invalid input\n"
     ]
    }
   ],
   "source": [
    "#ChatGPT Code (Verbatim)\n",
    "a = input(\"Enter base: \")\n",
    "b = input(\"Enter exponent: \")\n",
    "\n",
    "if a.isdigit() and b.isdigit():\n",
    "    print(int(a) ** int(b))\n",
    "else:\n",
    "    print(\"Invalid input\")\n"
   ]
  },
  {
   "cell_type": "code",
   "execution_count": null,
   "id": "ccbf3ae5-e271-4476-889d-de62ccd4bd45",
   "metadata": {},
   "outputs": [],
   "source": [
    "#Critique\n",
    "\n",
    "Correctness:\n",
    "\n",
    "Only works for positive integers; fails for negatives, floats, or numeric strings like -2, 3.5.\n",
    "\n",
    "Time & Space Complexity: O(1) — very small program.\n",
    "\n",
    "Robustness: ❌ Not robust; cannot handle floats or negative numbers.\n",
    "\n",
    "Readability/Style: Simple and readable; could add messages or try/except for clarity.\n",
    "\n",
    "Faithfulness to Lectures: Uses arithmetic operator ** and basic input; does not demonstrate exception handling fully.\n",
    "\n",
    "Notes on isdigit():\n",
    "\n",
    "Returns True only for strings containing digits 0-9.\n",
    "\n",
    "Fails for: negative numbers (-2) and floats (3.5).\n",
    "\n",
    "Pre-validation with isdigit() is limited; try/except is preferred for numeric conversion."
   ]
  },
  {
   "cell_type": "code",
   "execution_count": 6,
   "id": "f4b96a5e-e3c5-4774-9bde-733bb4a35704",
   "metadata": {},
   "outputs": [
    {
     "name": "stdin",
     "output_type": "stream",
     "text": [
      "Enter the base (a):  12\n",
      "Enter the exponent (b):  3\n"
     ]
    },
    {
     "name": "stdout",
     "output_type": "stream",
     "text": [
      "12.0 ** 3.0 = 1728.0\n"
     ]
    }
   ],
   "source": [
    "#Improved Code (try/except approach)\n",
    "# exponent.py - CLI program using try/except\n",
    "\n",
    "def main():\n",
    "    try:\n",
    "        a = float(input(\"Enter the base (a): \"))\n",
    "        b = float(input(\"Enter the exponent (b): \"))\n",
    "        result = a ** b\n",
    "        print(f\"{a} ** {b} = {result}\")\n",
    "    except ValueError:\n",
    "        print(\"Invalid input: Please enter numeric values.\")\n",
    "\n",
    "\n",
    "if __name__ == \"__main__\":\n",
    "    main()\n"
   ]
  },
  {
   "cell_type": "code",
   "execution_count": null,
   "id": "ef26e1e6-4046-4d63-a73d-ce9772f3fdc5",
   "metadata": {},
   "outputs": [],
   "source": [
    "Features:\n",
    "\n",
    "Accepts integers, floats, negatives.\n",
    "\n",
    "Handles invalid input gracefully with ValueError.\n",
    "\n",
    "Uses ** operator and clear messages."
   ]
  }
 ],
 "metadata": {
  "kernelspec": {
   "display_name": "Python [conda env:base] *",
   "language": "python",
   "name": "conda-base-py"
  },
  "language_info": {
   "codemirror_mode": {
    "name": "ipython",
    "version": 3
   },
   "file_extension": ".py",
   "mimetype": "text/x-python",
   "name": "python",
   "nbconvert_exporter": "python",
   "pygments_lexer": "ipython3",
   "version": "3.13.5"
  }
 },
 "nbformat": 4,
 "nbformat_minor": 5
}
