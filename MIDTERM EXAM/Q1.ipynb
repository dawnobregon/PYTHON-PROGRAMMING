{
 "cells": [
  {
   "cell_type": "code",
   "execution_count": 2,
   "id": "831d6b21-0c5d-4c93-9ecf-8e9cf7a1357d",
   "metadata": {},
   "outputs": [
    {
     "name": "stdout",
     "output_type": "stream",
     "text": [
      "6\n",
      "-1\n"
     ]
    }
   ],
   "source": [
    "#ChatGPT Code (Verbatim)\n",
    "def normalize_and_find(text, needle):\n",
    "    text = text.strip().lower()\n",
    "    return text.find(needle.lower())\n",
    "\n",
    "print(normalize_and_find(\"  Hello World  \", \"world\"))\n",
    "print(normalize_and_find(\"  Hello World  \", \"python\"))"
   ]
  },
  {
   "cell_type": "code",
   "execution_count": null,
   "id": "2972165f-8609-4657-81f0-7b958392c529",
   "metadata": {},
   "outputs": [],
   "source": [
    "#Critique\n",
    "\n",
    "Correctness: Works as required; trims, lowercases, finds needle, returns −1 if not found.\n",
    "\n",
    "Time & Space Complexity:\n",
    "\n",
    "Time: O(n), n = length of text\n",
    "\n",
    "Space: O(n) for normalized string\n",
    "\n",
    "Robustness: Handles normal and empty strings; no type validation.\n",
    "\n",
    "Readability/Style: Clear but missing docstring; could improve variable separation for clarity.\n",
    "\n",
    "Faithfulness to Lectures: Uses .strip(), .lower(), .find(); demonstrates string immutability.\n",
    "\n",
    "Alternative (find vs index):\n",
    "\n",
    ".find() returns −1 if not found (safe).\n",
    "\n",
    ".index() raises ValueError if not found (requires try/except)."
   ]
  },
  {
   "cell_type": "code",
   "execution_count": 3,
   "id": "80ac30ad-dbab-438b-8f9c-cda91ecacd16",
   "metadata": {},
   "outputs": [
    {
     "name": "stdout",
     "output_type": "stream",
     "text": [
      "All tests passed.\n"
     ]
    }
   ],
   "source": [
    "#Improved Code\n",
    "def normalize_and_find(text: str, needle: str) -> int:\n",
    "    \"\"\"\n",
    "    Normalize text by trimming whitespace and converting to lowercase,\n",
    "    then return the index of the first occurrence of needle.\n",
    "    Returns -1 if needle is not found.\n",
    "    \"\"\"\n",
    "    if not isinstance(text, str) or not isinstance(needle, str):\n",
    "        raise TypeError(\"Both text and needle must be strings\")\n",
    "\n",
    "    normalized_text = text.strip().lower()\n",
    "    normalized_needle = needle.lower()\n",
    "    return normalized_text.find(normalized_needle)\n",
    "\n",
    "\n",
    "if __name__ == \"__main__\":\n",
    "    assert normalize_and_find(\"  Hello World  \", \"world\") == 6\n",
    "    assert normalize_and_find(\"  Hello World  \", \"python\") == -1\n",
    "    assert normalize_and_find(\"   Test   \", \"t\") == 0\n",
    "    assert normalize_and_find(\"\", \"a\") == -1\n",
    "    assert normalize_and_find(\"ABC\", \"\") == 0\n",
    "    print(\"All tests passed.\")\n"
   ]
  },
  {
   "cell_type": "code",
   "execution_count": null,
   "id": "0a6b485d-10ae-45cf-8064-8bd1a6418583",
   "metadata": {},
   "outputs": [],
   "source": []
  }
 ],
 "metadata": {
  "kernelspec": {
   "display_name": "Python [conda env:base] *",
   "language": "python",
   "name": "conda-base-py"
  },
  "language_info": {
   "codemirror_mode": {
    "name": "ipython",
    "version": 3
   },
   "file_extension": ".py",
   "mimetype": "text/x-python",
   "name": "python",
   "nbconvert_exporter": "python",
   "pygments_lexer": "ipython3",
   "version": "3.13.5"
  }
 },
 "nbformat": 4,
 "nbformat_minor": 5
}
