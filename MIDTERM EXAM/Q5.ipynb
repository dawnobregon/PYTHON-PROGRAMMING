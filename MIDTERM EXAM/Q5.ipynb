{
 "cells": [
  {
   "cell_type": "code",
   "execution_count": 1,
   "id": "f71fb628-8834-4a8e-aa63-94e06940613b",
   "metadata": {},
   "outputs": [
    {
     "name": "stdin",
     "output_type": "stream",
     "text": [
      "Enter password (Q/q to quit):  admin\n"
     ]
    },
    {
     "name": "stdout",
     "output_type": "stream",
     "text": [
      "{'length': False, 'uppercase': False, 'lowercase': True, 'digit': False, 'symbol': False, 'no_space': True, 'overall': False}\n"
     ]
    },
    {
     "name": "stdin",
     "output_type": "stream",
     "text": [
      "Enter password (Q/q to quit):  Admin\n"
     ]
    },
    {
     "name": "stdout",
     "output_type": "stream",
     "text": [
      "{'length': False, 'uppercase': True, 'lowercase': True, 'digit': False, 'symbol': False, 'no_space': True, 'overall': False}\n"
     ]
    },
    {
     "name": "stdin",
     "output_type": "stream",
     "text": [
      "Enter password (Q/q to quit):  Admin_213\n"
     ]
    },
    {
     "name": "stdout",
     "output_type": "stream",
     "text": [
      "{'length': False, 'uppercase': True, 'lowercase': True, 'digit': True, 'symbol': False, 'no_space': True, 'overall': False}\n"
     ]
    },
    {
     "name": "stdin",
     "output_type": "stream",
     "text": [
      "Enter password (Q/q to quit):  Admin21\n"
     ]
    },
    {
     "name": "stdout",
     "output_type": "stream",
     "text": [
      "{'length': False, 'uppercase': True, 'lowercase': True, 'digit': True, 'symbol': False, 'no_space': True, 'overall': False}\n"
     ]
    },
    {
     "name": "stdin",
     "output_type": "stream",
     "text": [
      "Enter password (Q/q to quit):  q\n"
     ]
    }
   ],
   "source": [
    "#ChatGPT Code (Verbatim)\n",
    "def check_password(pw):\n",
    "    rules = {\n",
    "        \"length\": len(pw) >= 10,\n",
    "        \"uppercase\": any(c.isupper() for c in pw),\n",
    "        \"lowercase\": any(c.islower() for c in pw),\n",
    "        \"digit\": any(c.isdigit() for c in pw),\n",
    "        \"symbol\": any(c in \"!@#$%^&*\" for c in pw),\n",
    "        \"no_space\": \" \" not in pw\n",
    "    }\n",
    "    rules[\"overall\"] = all(rules.values())\n",
    "    return rules\n",
    "\n",
    "while True:\n",
    "    pw = input(\"Enter password (Q/q to quit): \")\n",
    "    if pw.lower() == \"q\":\n",
    "        break\n",
    "    result = check_password(pw)\n",
    "    print(result)\n",
    "    if result[\"overall\"]:\n",
    "        print(\"Password accepted.\")\n",
    "        break\n"
   ]
  },
  {
   "cell_type": "code",
   "execution_count": null,
   "id": "677ecff5-834d-4742-a771-4249a2e280b1",
   "metadata": {},
   "outputs": [],
   "source": [
    "#Critique\n",
    "\n",
    "Correctness: ✅ Checks all rules correctly, returns boolean dict, overall pass/fail.\n",
    "\n",
    "Time & Space Complexity:\n",
    "\n",
    "Time: O(n) per password (n = length of password)\n",
    "\n",
    "Space: O(1) for fixed dict size\n",
    "\n",
    "Robustness: Handles empty strings, spaces, and all input types since input is always string.\n",
    "\n",
    "Readability/Style: Clear variable names and structure; could add a docstring for check_password.\n",
    "\n",
    "Faithfulness to Lectures: Uses conditionals (if/elif/else), logical operators (and/or), loops (while), any(), and break/continue."
   ]
  },
  {
   "cell_type": "code",
   "execution_count": 2,
   "id": "d5f59a2b-e4cd-41dd-8c55-88ee47f6b0de",
   "metadata": {},
   "outputs": [
    {
     "name": "stdin",
     "output_type": "stream",
     "text": [
      "Enter password (Q/q to quit):  Admin\n"
     ]
    },
    {
     "name": "stdout",
     "output_type": "stream",
     "text": [
      "length: Fail\n",
      "uppercase: Pass\n",
      "lowercase: Pass\n",
      "digit: Fail\n",
      "symbol: Fail\n",
      "no_space: Pass\n",
      "Password does not meet all requirements. Try again.\n",
      "\n"
     ]
    },
    {
     "name": "stdin",
     "output_type": "stream",
     "text": [
      "Enter password (Q/q to quit):  q\n"
     ]
    },
    {
     "name": "stdout",
     "output_type": "stream",
     "text": [
      "Exiting password checker.\n"
     ]
    }
   ],
   "source": [
    "#Improved Code\n",
    "def check_password(pw: str) -> dict:\n",
    "    \"\"\"\n",
    "    Validate password according to policy:\n",
    "    - Length >= 10\n",
    "    - At least one uppercase letter\n",
    "    - At least one lowercase letter\n",
    "    - At least one digit\n",
    "    - At least one symbol in !@#$%^&*\n",
    "    - No spaces\n",
    "    Returns a dict with rule booleans and overall pass/fail.\n",
    "    \"\"\"\n",
    "    rules = {\n",
    "        \"length\": len(pw) >= 10,\n",
    "        \"uppercase\": any(c.isupper() for c in pw),\n",
    "        \"lowercase\": any(c.islower() for c in pw),\n",
    "        \"digit\": any(c.isdigit() for c in pw),\n",
    "        \"symbol\": any(c in \"!@#$%^&*\" for c in pw),\n",
    "        \"no_space\": \" \" not in pw\n",
    "    }\n",
    "    rules[\"overall\"] = all(rules.values())\n",
    "    return rules\n",
    "\n",
    "\n",
    "if __name__ == \"__main__\":\n",
    "    while True:\n",
    "        pw = input(\"Enter password (Q/q to quit): \")\n",
    "        if pw.lower() == \"q\":\n",
    "            print(\"Exiting password checker.\")\n",
    "            break\n",
    "        result = check_password(pw)\n",
    "        for rule, passed in result.items():\n",
    "            if rule != \"overall\":\n",
    "                print(f\"{rule}: {'Pass' if passed else 'Fail'}\")\n",
    "        if result[\"overall\"]:\n",
    "            print(\"Password accepted.\")\n",
    "            break\n",
    "        else:\n",
    "            print(\"Password does not meet all requirements. Try again.\\n\")\n"
   ]
  },
  {
   "cell_type": "code",
   "execution_count": null,
   "id": "e2b6b736-ce5b-49b5-bf1e-f62b72eec9cb",
   "metadata": {},
   "outputs": [],
   "source": [
    "Improvements Made:\n",
    "\n",
    "Added docstring explaining rules.\n",
    "\n",
    "Prints results per rule clearly.\n",
    "\n",
    "Maintains loop until valid password or user quits.\n",
    "\n",
    "Uses logical operators and loops effectively.\n",
    "\n",
    "Complexity:\n",
    "\n",
    "Time: O(n) per password check\n",
    "\n",
    "Space: O(1) (fixed-size dict)\n",
    "\n",
    "Lecture References:\n",
    "\n",
    "Conditionals (if/elif/else)\n",
    "\n",
    "Logical operators (any(), all())\n",
    "\n",
    "Loops and break/continue\n",
    "\n",
    "Input handling and validation"
   ]
  }
 ],
 "metadata": {
  "kernelspec": {
   "display_name": "Python [conda env:base] *",
   "language": "python",
   "name": "conda-base-py"
  },
  "language_info": {
   "codemirror_mode": {
    "name": "ipython",
    "version": 3
   },
   "file_extension": ".py",
   "mimetype": "text/x-python",
   "name": "python",
   "nbconvert_exporter": "python",
   "pygments_lexer": "ipython3",
   "version": "3.13.5"
  }
 },
 "nbformat": 4,
 "nbformat_minor": 5
}
