{
 "cells": [
  {
   "cell_type": "code",
   "execution_count": 1,
   "id": "b2fc9924-163b-40b4-97f4-2abd7068412b",
   "metadata": {},
   "outputs": [
    {
     "name": "stdout",
     "output_type": "stream",
     "text": [
      "1100 40.0\n",
      "5100 88.88888888888889\n"
     ]
    }
   ],
   "source": [
    "#ChatGPT Code (Verbatim)\n",
    "class Vehicle:\n",
    "    def __init__(self, color, mileage, fuel_liters):\n",
    "        self.color = color\n",
    "        self.mileage = mileage\n",
    "        self.fuel_liters = fuel_liters\n",
    "\n",
    "    def drive(self, km, km_per_liter):\n",
    "        possible_km = self.fuel_liters * km_per_liter\n",
    "        actual_km = min(km, possible_km)\n",
    "        self.mileage += actual_km\n",
    "        self.fuel_liters -= actual_km / km_per_liter\n",
    "\n",
    "    def refuel(self, liters):\n",
    "        self.fuel_liters += liters\n",
    "\n",
    "class Car(Vehicle):\n",
    "    pass\n",
    "\n",
    "class Truck(Vehicle):\n",
    "    def drive(self, km, km_per_liter):\n",
    "        # Trucks are less efficient by 10%\n",
    "        adjusted_km_per_liter = km_per_liter * 0.9\n",
    "        super().drive(km, adjusted_km_per_liter)\n",
    "\n",
    "# Minimal test\n",
    "car = Car(\"red\", 1000, 50)\n",
    "truck = Truck(\"blue\", 5000, 100)\n",
    "car.drive(100, 10)\n",
    "truck.drive(100, 10)\n",
    "print(car.mileage, car.fuel_liters)\n",
    "print(truck.mileage, truck.fuel_liters)\n"
   ]
  },
  {
   "cell_type": "code",
   "execution_count": null,
   "id": "de8a97c9-548b-4086-878c-6098257daef7",
   "metadata": {},
   "outputs": [],
   "source": [
    "Critique\n",
    "\n",
    "Correctness: ✅\n",
    "\n",
    "Attributes and methods implemented correctly.\n",
    "\n",
    "drive() updates mileage and fuel; Truck override reduces efficiency.\n",
    "\n",
    "Time & Space Complexity: O(1) for each method call; minimal memory use.\n",
    "\n",
    "Robustness: Fuel never goes below 0; handles normal numeric inputs.\n",
    "\n",
    "Readability/Style: Clear naming, minimal duplication due to inheritance, PEP8 style.\n",
    "\n",
    "Faithfulness to Lectures: Demonstrates classes vs. instances, inheritance, method overriding, attributes, instance methods.\n",
    "\n",
    "Inheritance Benefits:\n",
    "\n",
    "Car inherits from Vehicle → no need to reimplement drive() and refuel().\n",
    "\n",
    "Truck overrides drive() to demonstrate method specialization."
   ]
  },
  {
   "cell_type": "code",
   "execution_count": 2,
   "id": "859155a6-3405-412a-8da4-e633c02f1473",
   "metadata": {},
   "outputs": [
    {
     "name": "stdout",
     "output_type": "stream",
     "text": [
      "Car mileage: 1100, fuel: 40.00\n",
      "Truck mileage: 5100, fuel: 88.89\n",
      "Car fuel after refuel: 60.0\n",
      "Truck fuel after refuel: 138.88888888888889\n"
     ]
    }
   ],
   "source": [
    "#Improved Code\n",
    "class Vehicle:\n",
    "    \"\"\"Base class for vehicles with color, mileage, and fuel.\"\"\"\n",
    "    \n",
    "    def __init__(self, color: str, mileage: float, fuel_liters: float):\n",
    "        self.color = color\n",
    "        self.mileage = mileage\n",
    "        self.fuel_liters = fuel_liters\n",
    "\n",
    "    def drive(self, km: float, km_per_liter: float) -> None:\n",
    "        \"\"\"Drive the vehicle, consuming fuel but never below zero.\"\"\"\n",
    "        max_possible_km = self.fuel_liters * km_per_liter\n",
    "        actual_km = min(km, max_possible_km)\n",
    "        self.mileage += actual_km\n",
    "        self.fuel_liters -= actual_km / km_per_liter\n",
    "\n",
    "    def refuel(self, liters: float) -> None:\n",
    "        \"\"\"Add fuel to the vehicle.\"\"\"\n",
    "        self.fuel_liters += liters\n",
    "\n",
    "\n",
    "class Car(Vehicle):\n",
    "    \"\"\"Car class inherits Vehicle; no additional behavior.\"\"\"\n",
    "    pass\n",
    "\n",
    "\n",
    "class Truck(Vehicle):\n",
    "    \"\"\"Truck class overrides drive() for lower efficiency.\"\"\"\n",
    "    \n",
    "    def drive(self, km: float, km_per_liter: float) -> None:\n",
    "        adjusted_efficiency = km_per_liter * 0.9  # 10% less efficient\n",
    "        super().drive(km, adjusted_efficiency)\n",
    "\n",
    "\n",
    "if __name__ == \"__main__\":\n",
    "    # Minimal test script\n",
    "    car = Car(\"red\", 1000, 50)\n",
    "    truck = Truck(\"blue\", 5000, 100)\n",
    "\n",
    "    car.drive(100, 10)\n",
    "    truck.drive(100, 10)\n",
    "\n",
    "    print(f\"Car mileage: {car.mileage}, fuel: {car.fuel_liters:.2f}\")\n",
    "    print(f\"Truck mileage: {truck.mileage}, fuel: {truck.fuel_liters:.2f}\")\n",
    "\n",
    "    # Refuel\n",
    "    car.refuel(20)\n",
    "    truck.refuel(50)\n",
    "    print(f\"Car fuel after refuel: {car.fuel_liters}\")\n",
    "    print(f\"Truck fuel after refuel: {truck.fuel_liters}\")\n"
   ]
  },
  {
   "cell_type": "code",
   "execution_count": null,
   "id": "c2a032aa-fdc5-44fa-a266-581dacd72405",
   "metadata": {},
   "outputs": [],
   "source": [
    "Improvements Made:\n",
    "\n",
    "Added docstrings for clarity.\n",
    "\n",
    "Used type hints.\n",
    "\n",
    "Formatted output for readability.\n",
    "\n",
    "Showed inheritance and method overriding clearly.\n",
    "\n",
    "Ensured fuel never drops below 0.\n",
    "\n",
    "Lecture References:\n",
    "\n",
    "Classes vs. instances\n",
    "\n",
    "Attributes and instance methods\n",
    "\n",
    "Inheritance and method overriding\n",
    "\n",
    "Conditionals handled implicitly via min()"
   ]
  }
 ],
 "metadata": {
  "kernelspec": {
   "display_name": "Python [conda env:base] *",
   "language": "python",
   "name": "conda-base-py"
  },
  "language_info": {
   "codemirror_mode": {
    "name": "ipython",
    "version": 3
   },
   "file_extension": ".py",
   "mimetype": "text/x-python",
   "name": "python",
   "nbconvert_exporter": "python",
   "pygments_lexer": "ipython3",
   "version": "3.13.5"
  }
 },
 "nbformat": 4,
 "nbformat_minor": 5
}
